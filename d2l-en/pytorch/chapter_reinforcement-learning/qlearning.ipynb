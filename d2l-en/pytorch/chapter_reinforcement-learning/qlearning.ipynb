{
 "cells": [
  {
   "cell_type": "markdown",
   "id": "afd76ca5",
   "metadata": {
    "origin_pos": 1
   },
   "source": [
    "# Q-Learning\n",
    ":label:`sec_qlearning`\n",
    "\n",
    "In the previous section, we discussed the Value Iteration algorithm which requires accessing the complete Markov decision process (MDP), e.g., the transition and reward functions. In this section, we will look at Q-Learning :cite:`Watkins.Dayan.1992` which is an algorithm to learn the value function without necessarily knowing the MDP. This algorithm embodies the central idea behind reinforcement learning: it will enable the robot to obtain its own data.\n",
    "<!-- , instead of relying upon the expert. -->\n",
    "\n",
    "## The Q-Learning Algorithm\n",
    "\n",
    "Recall that value iteration for the action-value function in :ref:`sec_valueiter` corresponds to the update\n",
    "\n",
    "$$Q_{k+1}(s, a) = r(s, a) + \\gamma \\sum_{s' \\in \\mathcal{S}} P(s' \\mid s, a) \\max_{a' \\in \\mathcal{A}} Q_k (s', a'); \\ \\textrm{for all } s \\in \\mathcal{S} \\textrm{ and } a \\in \\mathcal{A}.$$\n",
    "\n",
    "As we discussed, implementing this algorithm requires knowing the MDP, specifically the transition function $P(s' \\mid s, a)$. The key idea behind Q-Learning is to replace the summation over all $s' \\in \\mathcal{S}$ in the above expression by a summation over the states visited by the robot. This allows us to subvert the need to know the transition function.\n",
    "\n",
    "## An Optimization Problem Underlying Q-Learning\n",
    "\n",
    "Let us imagine that the robot uses a policy $\\pi_e(a \\mid s)$ to take actions. Just like the previous chapter, it collects a dataset of $n$ trajectories of $T$ timesteps each $\\{ (s_t^i, a_t^i)_{t=0,\\ldots,T-1}\\}_{i=1,\\ldots, n}$. Recall that value iteration is really a set of constraints that ties together the action-value $Q^*(s, a)$ of different states and actions to each other. We can implement an approximate version of value iteration using the data that the robot has collected using $\\pi_e$ as\n",
    "\n",
    "$$\\hat{Q} = \\min_Q \\underbrace{\\frac{1}{nT} \\sum_{i=1}^n \\sum_{t=0}^{T-1} (Q(s_t^i, a_t^i) - r(s_t^i, a_t^i) - \\gamma \\max_{a'} Q(s_{t+1}^i, a'))^2}_{\\stackrel{\\textrm{def}}{=} \\ell(Q)}.$$\n",
    ":eqlabel:`q_learning_optimization_problem`\n",
    "\n",
    "Let us first observe the similarities and differences between this expression and value iteration above. If the robot's policy $\\pi_e$ were equal to the optimal policy $\\pi^*$, and if it collected an infinite amount of data, then this optimization problem would be identical to the optimization problem underlying value iteration. But while value iteration requires us to know $P(s' \\mid s, a)$, the optimization objective does not have this term. We have not cheated: as the robot uses the policy $\\pi_e$ to take an action $a_t^i$ at state $s_t^i$, the next state $s_{t+1}^i$ is a sample drawn from the transition function. So the optimization objective also has access to the transition function, but implicitly in terms of the data collected by the robot.\n",
    "\n",
    "The variables of our optimization problem are $Q(s, a)$ for all $s \\in \\mathcal{S}$ and $a \\in \\mathcal{A}$. We can minimize the objective using gradient descent. For every pair $(s_t^i, a_t^i)$ in our dataset, we can write\n",
    "\n",
    "$$\\begin{aligned}Q(s_t^i, a_t^i) &\\leftarrow Q(s_t^i, a_t^i) - \\alpha \\nabla_{Q(s_t^i,a_t^i)} \\ell(Q) \\\\&=(1 - \\alpha) Q(s_t^i,a_t^i) - \\alpha \\Big( r(s_t^i, a_t^i) + \\gamma \\max_{a'} Q(s_{t+1}^i, a') \\Big),\\end{aligned}$$\n",
    ":eqlabel:`q_learning`\n",
    "\n",
    "where $\\alpha$ is the learning rate. Typically in real problems, when the robot reaches the goal location, the trajectories end. The value of such a terminal state is zero because the robot does not take any further actions beyond this state. We should modify our update to handle such states as\n",
    "\n",
    "$$Q(s_t^i, a_t^i) =(1 - \\alpha) Q(s_t^i,a_t^i) - \\alpha \\Big( r(s_t^i, a_t^i) + \\gamma (1 - \\mathbb{1}_{s_{t+1}^i \\textrm{ is terminal}} )\\max_{a'} Q(s_{t+1}^i, a') \\Big).$$\n",
    "\n",
    "where $\\mathbb{1}_{s_{t+1}^i \\textrm{ is terminal}}$ is an indicator variable that is one if $s_{t+1}^i$ is a terminal state and zero otherwise. The value of state-action tuples $(s, a)$ that are not a part of the dataset is set to $-\\infty$. This algorithm is known as Q-Learning.\n",
    "\n",
    "Given the solution of these updates $\\hat{Q}$, which is an approximation of the optimal value function $Q^*$, we can obtain the optimal deterministic policy corresponding to this value function easily using\n",
    "\n",
    "$$\\hat{\\pi}(s) = \\mathrm{argmax}_{a} \\hat{Q}(s, a).$$\n",
    "\n",
    "There can be situations when there are multiple deterministic policies that correspond to the same optimal value function; such ties can be broken arbitrarily because they have the same value function.\n",
    "\n",
    "## Exploration in Q-Learning\n",
    "\n",
    "The policy used by the robot to collect data $\\pi_e$ is critical to ensure that Q-Learning works well. Afterall, we have replaced the expectation over $s'$ using the transition function $P(s' \\mid s, a)$ using the data collected by the robot. If the policy $\\pi_e$ does not reach diverse parts of the state-action space, then it is easy to imagine our estimate $\\hat{Q}$ will be a poor approximation of the optimal $Q^*$. It is also important to note that in such a situation, the estimate of $Q^*$ at *all states* $s \\in \\mathcal{S}$ will be bad, not just the ones visited by $\\pi_e$. This is because the Q-Learning objective (or value iteration) is a constraint that ties together the value of all state-action pairs. It is therefore critical to pick the correct policy $\\pi_e$ to collect data.\n",
    "\n",
    "We can mitigate this concern by picking a completely random policy $\\pi_e$ that samples actions uniformly randomly from $\\mathcal{A}$. Such a policy would visit all states, but it will take a large number of trajectories before it does so.\n",
    "\n",
    "We thus arrive at the second key idea in Q-Learning, namely exploration. Typical implementations of Q-Learning tie together the current estimate of $Q$ and the policy $\\pi_e$ to set\n",
    "\n",
    "$$\\pi_e(a \\mid s) = \\begin{cases}\\mathrm{argmax}_{a'} \\hat{Q}(s, a') & \\textrm{with prob. } 1-\\epsilon \\\\ \\textrm{uniform}(\\mathcal{A}) & \\textrm{with prob. } \\epsilon,\\end{cases}$$\n",
    ":eqlabel:`epsilon_greedy`\n",
    "\n",
    "where $\\epsilon$ is called the \"exploration parameter\" and is chosen by the user. The policy $\\pi_e$ is called an exploration policy. This particular $\\pi_e$ is called an $\\epsilon$-greedy exploration policy because it chooses the optimal action (under the current estimate $\\hat{Q}$) with probability $1-\\epsilon$ but explores randomly with the remainder probability $\\epsilon$. We can also use the so-called softmax exploration policy\n",
    "\n",
    "$$\\pi_e(a \\mid s) = \\frac{e^{\\hat{Q}(s, a)/T}}{\\sum_{a'} e^{\\hat{Q}(s, a')/T}};$$\n",
    "\n",
    "where the hyper-parameter $T$ is called temperature. A large value of $\\epsilon$ in $\\epsilon$-greedy policy functions similarly to a large value of temperature $T$ for the softmax policy.\n",
    "\n",
    "It is important to note that when we pick an exploration that depends upon the current estimate of the action-value function $\\hat{Q}$, we need to resolve the optimization problem periodically. Typical implementations of Q-Learning make one mini-batch update using a few state-action pairs in the collected dataset (typically the ones collected from the previous timestep of the robot) after taking every action using $\\pi_e$.\n",
    "\n",
    "## The \"Self-correcting\" Property of Q-Learning\n",
    "\n",
    "The dataset collected by the robot during Q-Learning grows with time. Both the exploration policy $\\pi_e$ and the estimate $\\hat{Q}$ evolve as the robot collects more data. This gives us a key insight into why Q-Learning works well. Consider a state $s$: if a particular action $a$ has a large value under the current estimate $\\hat{Q}(s,a)$, then both the $\\epsilon$-greedy and the softmax exploration policies have a larger probability of picking this action. If this action actually is *not* the ideal action, then the future states that arise from this action will have poor rewards. The next update of the Q-Learning objective will therefore reduce the value $\\hat{Q}(s,a)$, which will reduce the probability of picking this action the next time the robot visits state $s$. Bad actions, e.g., ones whose value is overestimated in $\\hat{Q}(s,a)$, are explored by the robot but their value is correct in the next update of the Q-Learning objective. Good actions, e.g., whose value $\\hat{Q}(s, a)$ is large, are explored more often by the robot and thereby reinforced. This property can be used to show that Q-Learning can converge to the optimal policy even if it begins with a random policy $\\pi_e$ :cite:`Watkins.Dayan.1992`.\n",
    "\n",
    "This ability to not only collect new data but also collect the right kind of data is the central feature of reinforcement learning algorithms, and this is what distinguishes them from supervised learning. Q-Learning, using deep neural networks (which we will see in the DQN chapeter later), is responsible for the resurgence of reinforcement learning :cite:`mnih2013playing`.\n",
    "\n",
    "## Implementation of Q-Learning\n",
    "\n",
    "We now show how to implement Q-Learning on FrozenLake from [Open AI Gym](https://gym.openai.com). Note this is the same setup as we consider in :ref:`sec_valueiter` experiment.\n"
   ]
  },
  {
   "cell_type": "code",
   "execution_count": 12,
   "id": "0c6fb34c",
   "metadata": {
    "execution": {
     "iopub.execute_input": "2023-08-18T07:07:52.355554Z",
     "iopub.status.busy": "2023-08-18T07:07:52.355019Z",
     "iopub.status.idle": "2023-08-18T07:07:55.264906Z",
     "shell.execute_reply": "2023-08-18T07:07:55.263983Z"
    },
    "origin_pos": 2,
    "tab": [
     "pytorch"
    ]
   },
   "outputs": [
    {
     "ename": "AttributeError",
     "evalue": "'FrozenLakeEnv' object has no attribute 'nS'",
     "output_type": "error",
     "traceback": [
      "\u001b[1;31m---------------------------------------------------------------------------\u001b[0m",
      "\u001b[1;31mAttributeError\u001b[0m                            Traceback (most recent call last)",
      "Cell \u001b[1;32mIn[12], line 16\u001b[0m\n\u001b[0;32m     13\u001b[0m np\u001b[38;5;241m.\u001b[39mrandom\u001b[38;5;241m.\u001b[39mseed(seed)\n\u001b[0;32m     15\u001b[0m \u001b[38;5;66;03m# Now set up the environment\u001b[39;00m\n\u001b[1;32m---> 16\u001b[0m env_info \u001b[38;5;241m=\u001b[39m \u001b[43md2l\u001b[49m\u001b[38;5;241;43m.\u001b[39;49m\u001b[43mmake_env\u001b[49m\u001b[43m(\u001b[49m\u001b[38;5;124;43m'\u001b[39;49m\u001b[38;5;124;43mFrozenLake-v1\u001b[39;49m\u001b[38;5;124;43m'\u001b[39;49m\u001b[43m,\u001b[49m\u001b[43m \u001b[49m\u001b[43mseed\u001b[49m\u001b[38;5;241;43m=\u001b[39;49m\u001b[43mseed\u001b[49m\u001b[43m)\u001b[49m\n",
      "File \u001b[1;32mf:\\python3.10\\lib\\site-packages\\d2l\\torch.py:2854\u001b[0m, in \u001b[0;36mmake_env\u001b[1;34m(name, seed)\u001b[0m\n\u001b[0;32m   2850\u001b[0m \u001b[38;5;66;03m# Input parameters:\u001b[39;00m\n\u001b[0;32m   2851\u001b[0m \u001b[38;5;66;03m# name: specifies a gym environment.\u001b[39;00m\n\u001b[0;32m   2852\u001b[0m \u001b[38;5;66;03m# For Value iteration, only FrozenLake-v1 is supported.\u001b[39;00m\n\u001b[0;32m   2853\u001b[0m \u001b[38;5;28;01mif\u001b[39;00m name \u001b[38;5;241m==\u001b[39m \u001b[38;5;124m'\u001b[39m\u001b[38;5;124mFrozenLake-v1\u001b[39m\u001b[38;5;124m'\u001b[39m:\n\u001b[1;32m-> 2854\u001b[0m     \u001b[38;5;28;01mreturn\u001b[39;00m \u001b[43mfrozen_lake\u001b[49m\u001b[43m(\u001b[49m\u001b[43mseed\u001b[49m\u001b[43m)\u001b[49m\n\u001b[0;32m   2856\u001b[0m \u001b[38;5;28;01melse\u001b[39;00m:\n\u001b[0;32m   2857\u001b[0m     \u001b[38;5;28;01mraise\u001b[39;00m \u001b[38;5;167;01mValueError\u001b[39;00m(\u001b[38;5;124m\"\u001b[39m\u001b[38;5;132;01m%s\u001b[39;00m\u001b[38;5;124m env is not supported in this Notebook\u001b[39m\u001b[38;5;124m\"\u001b[39m)\n",
      "File \u001b[1;32mf:\\python3.10\\lib\\site-packages\\d2l\\torch.py:2828\u001b[0m, in \u001b[0;36mfrozen_lake\u001b[1;34m(seed)\u001b[0m\n\u001b[0;32m   2826\u001b[0m env_info \u001b[38;5;241m=\u001b[39m {}\n\u001b[0;32m   2827\u001b[0m env_info[\u001b[38;5;124m'\u001b[39m\u001b[38;5;124mdesc\u001b[39m\u001b[38;5;124m'\u001b[39m] \u001b[38;5;241m=\u001b[39m env\u001b[38;5;241m.\u001b[39mdesc  \u001b[38;5;66;03m# 2D array specifying what each grid item means\u001b[39;00m\n\u001b[1;32m-> 2828\u001b[0m env_info[\u001b[38;5;124m'\u001b[39m\u001b[38;5;124mnum_states\u001b[39m\u001b[38;5;124m'\u001b[39m] \u001b[38;5;241m=\u001b[39m \u001b[43menv\u001b[49m\u001b[38;5;241;43m.\u001b[39;49m\u001b[43mnS\u001b[49m  \u001b[38;5;66;03m# Number of observations/states or obs/state dim\u001b[39;00m\n\u001b[0;32m   2829\u001b[0m env_info[\u001b[38;5;124m'\u001b[39m\u001b[38;5;124mnum_actions\u001b[39m\u001b[38;5;124m'\u001b[39m] \u001b[38;5;241m=\u001b[39m env\u001b[38;5;241m.\u001b[39mnA  \u001b[38;5;66;03m# Number of actions or action dim\u001b[39;00m\n\u001b[0;32m   2830\u001b[0m \u001b[38;5;66;03m# Define indices for (transition probability, nextstate, reward, done) tuple\u001b[39;00m\n",
      "File \u001b[1;32mf:\\python3.10\\lib\\site-packages\\gym\\core.py:325\u001b[0m, in \u001b[0;36mWrapper.__getattr__\u001b[1;34m(self, name)\u001b[0m\n\u001b[0;32m    323\u001b[0m \u001b[38;5;28;01mif\u001b[39;00m name\u001b[38;5;241m.\u001b[39mstartswith(\u001b[38;5;124m\"\u001b[39m\u001b[38;5;124m_\u001b[39m\u001b[38;5;124m\"\u001b[39m):\n\u001b[0;32m    324\u001b[0m     \u001b[38;5;28;01mraise\u001b[39;00m \u001b[38;5;167;01mAttributeError\u001b[39;00m(\u001b[38;5;124mf\u001b[39m\u001b[38;5;124m\"\u001b[39m\u001b[38;5;124maccessing private attribute \u001b[39m\u001b[38;5;124m'\u001b[39m\u001b[38;5;132;01m{\u001b[39;00mname\u001b[38;5;132;01m}\u001b[39;00m\u001b[38;5;124m'\u001b[39m\u001b[38;5;124m is prohibited\u001b[39m\u001b[38;5;124m\"\u001b[39m)\n\u001b[1;32m--> 325\u001b[0m \u001b[38;5;28;01mreturn\u001b[39;00m \u001b[38;5;28;43mgetattr\u001b[39;49m\u001b[43m(\u001b[49m\u001b[38;5;28;43mself\u001b[39;49m\u001b[38;5;241;43m.\u001b[39;49m\u001b[43menv\u001b[49m\u001b[43m,\u001b[49m\u001b[43m \u001b[49m\u001b[43mname\u001b[49m\u001b[43m)\u001b[49m\n",
      "File \u001b[1;32mf:\\python3.10\\lib\\site-packages\\gym\\core.py:325\u001b[0m, in \u001b[0;36mWrapper.__getattr__\u001b[1;34m(self, name)\u001b[0m\n\u001b[0;32m    323\u001b[0m \u001b[38;5;28;01mif\u001b[39;00m name\u001b[38;5;241m.\u001b[39mstartswith(\u001b[38;5;124m\"\u001b[39m\u001b[38;5;124m_\u001b[39m\u001b[38;5;124m\"\u001b[39m):\n\u001b[0;32m    324\u001b[0m     \u001b[38;5;28;01mraise\u001b[39;00m \u001b[38;5;167;01mAttributeError\u001b[39;00m(\u001b[38;5;124mf\u001b[39m\u001b[38;5;124m\"\u001b[39m\u001b[38;5;124maccessing private attribute \u001b[39m\u001b[38;5;124m'\u001b[39m\u001b[38;5;132;01m{\u001b[39;00mname\u001b[38;5;132;01m}\u001b[39;00m\u001b[38;5;124m'\u001b[39m\u001b[38;5;124m is prohibited\u001b[39m\u001b[38;5;124m\"\u001b[39m)\n\u001b[1;32m--> 325\u001b[0m \u001b[38;5;28;01mreturn\u001b[39;00m \u001b[38;5;28;43mgetattr\u001b[39;49m\u001b[43m(\u001b[49m\u001b[38;5;28;43mself\u001b[39;49m\u001b[38;5;241;43m.\u001b[39;49m\u001b[43menv\u001b[49m\u001b[43m,\u001b[49m\u001b[43m \u001b[49m\u001b[43mname\u001b[49m\u001b[43m)\u001b[49m\n",
      "    \u001b[1;31m[... skipping similar frames: Wrapper.__getattr__ at line 325 (1 times)]\u001b[0m\n",
      "File \u001b[1;32mf:\\python3.10\\lib\\site-packages\\gym\\core.py:325\u001b[0m, in \u001b[0;36mWrapper.__getattr__\u001b[1;34m(self, name)\u001b[0m\n\u001b[0;32m    323\u001b[0m \u001b[38;5;28;01mif\u001b[39;00m name\u001b[38;5;241m.\u001b[39mstartswith(\u001b[38;5;124m\"\u001b[39m\u001b[38;5;124m_\u001b[39m\u001b[38;5;124m\"\u001b[39m):\n\u001b[0;32m    324\u001b[0m     \u001b[38;5;28;01mraise\u001b[39;00m \u001b[38;5;167;01mAttributeError\u001b[39;00m(\u001b[38;5;124mf\u001b[39m\u001b[38;5;124m\"\u001b[39m\u001b[38;5;124maccessing private attribute \u001b[39m\u001b[38;5;124m'\u001b[39m\u001b[38;5;132;01m{\u001b[39;00mname\u001b[38;5;132;01m}\u001b[39;00m\u001b[38;5;124m'\u001b[39m\u001b[38;5;124m is prohibited\u001b[39m\u001b[38;5;124m\"\u001b[39m)\n\u001b[1;32m--> 325\u001b[0m \u001b[38;5;28;01mreturn\u001b[39;00m \u001b[38;5;28;43mgetattr\u001b[39;49m\u001b[43m(\u001b[49m\u001b[38;5;28;43mself\u001b[39;49m\u001b[38;5;241;43m.\u001b[39;49m\u001b[43menv\u001b[49m\u001b[43m,\u001b[49m\u001b[43m \u001b[49m\u001b[43mname\u001b[49m\u001b[43m)\u001b[49m\n",
      "\u001b[1;31mAttributeError\u001b[0m: 'FrozenLakeEnv' object has no attribute 'nS'"
     ]
    },
    {
     "ename": "",
     "evalue": "",
     "output_type": "error",
     "traceback": [
      "\u001b[1;31m在目前儲存格或上一個儲存格中執行程式碼時，Kernel 已損毀。\n",
      "\u001b[1;31m請檢閱儲存格中的程式碼，找出失敗的可能原因。\n",
      "\u001b[1;31m如需詳細資訊，請按一下<a href='https://aka.ms/vscodeJupyterKernelCrash'>這裡</a>。\n",
      "\u001b[1;31m如需詳細資料，請檢視 Jupyter <a href='command:jupyter.viewOutput'>記錄</a>。"
     ]
    }
   ],
   "source": [
    "%matplotlib inline\n",
    "import random\n",
    "import numpy as np\n",
    "import gym\n",
    "from d2l import torch as d2l\n",
    "\n",
    "seed = 0  # Random number generator seed\n",
    "gamma = 0.95  # Discount factor\n",
    "num_iters = 256  # Number of iterations\n",
    "alpha   = 0.9  # Learing rate\n",
    "epsilon = 0.9  # Epsilon in epsilion gready algorithm\n",
    "random.seed(seed)  # Set the random seed\n",
    "np.random.seed(seed)\n",
    "\n",
    "# Now set up the environment\n",
    "env_info = d2l.make_env('FrozenLake-v1', seed=seed)"
   ]
  },
  {
   "cell_type": "markdown",
   "id": "e3c443aa",
   "metadata": {
    "origin_pos": 3
   },
   "source": [
    "In the FrozenLake environment, the robot moves on a $4 \\times 4$ grid (these are the states) with actions that are \"up\" ($\\uparrow$), \"down\" ($\\rightarrow$), \"left\" ($\\leftarrow$), and \"right\" ($\\rightarrow$). The environment contains a number of holes (H) cells and frozen (F) cells as well as a goal cell (G), all of which are unknown to the robot. To keep the problem simple, we assume the robot has reliable actions, i.e. $P(s' \\mid s, a) = 1$ for all $s \\in \\mathcal{S}, a \\in \\mathcal{A}$. If the robot reaches the goal, the trial ends and the robot receives a reward of $1$ irrespective of the action; the reward at any other state is $0$ for all actions. The objective of the robot is to learn a policy that reaches the goal location (G) from a given start location (S) (this is $s_0$) to maximize the *return*.\n",
    "\n",
    "We first implement $\\epsilon$-greedy method as follows:\n"
   ]
  },
  {
   "cell_type": "code",
   "execution_count": null,
   "id": "e18a9025",
   "metadata": {
    "execution": {
     "iopub.execute_input": "2023-08-18T07:07:55.269101Z",
     "iopub.status.busy": "2023-08-18T07:07:55.268392Z",
     "iopub.status.idle": "2023-08-18T07:07:55.273290Z",
     "shell.execute_reply": "2023-08-18T07:07:55.272397Z"
    },
    "origin_pos": 4,
    "tab": [
     "pytorch"
    ]
   },
   "outputs": [],
   "source": [
    "def e_greedy(env, Q, s, epsilon):\n",
    "    if random.random() < epsilon:\n",
    "        return env.action_space.sample()\n",
    "\n",
    "    else:\n",
    "        return np.argmax(Q[s,:])"
   ]
  },
  {
   "cell_type": "markdown",
   "id": "26d83d26",
   "metadata": {
    "origin_pos": 5
   },
   "source": [
    "We are now ready to implement Q-learning:\n"
   ]
  },
  {
   "cell_type": "code",
   "execution_count": null,
   "id": "160627b8",
   "metadata": {
    "execution": {
     "iopub.execute_input": "2023-08-18T07:07:55.276616Z",
     "iopub.status.busy": "2023-08-18T07:07:55.276078Z",
     "iopub.status.idle": "2023-08-18T07:07:57.774058Z",
     "shell.execute_reply": "2023-08-18T07:07:57.773112Z"
    },
    "origin_pos": 6,
    "tab": [
     "pytorch"
    ]
   },
   "outputs": [],
   "source": [
    "def q_learning(env_info, gamma, num_iters, alpha, epsilon):\n",
    "    env_desc = env_info['desc']  # 2D array specifying what each grid item means\n",
    "    env = env_info['env']  # 2D array specifying what each grid item means\n",
    "    num_states = env_info['num_states']\n",
    "    num_actions = env_info['num_actions']\n",
    "\n",
    "    Q  = np.zeros((num_states, num_actions))\n",
    "    V  = np.zeros((num_iters + 1, num_states))\n",
    "    pi = np.zeros((num_iters + 1, num_states))\n",
    "\n",
    "    for k in range(1, num_iters + 1):\n",
    "        # Reset environment\n",
    "        state, done = env.reset(), False\n",
    "        while not done:\n",
    "            # Select an action for a given state and acts in env based on selected action\n",
    "            action = e_greedy(env, Q, state, epsilon)\n",
    "            next_state, reward, done, _ = env.step(action)\n",
    "\n",
    "            # Q-update:\n",
    "            y = reward + gamma * np.max(Q[next_state,:])\n",
    "            Q[state, action] = Q[state, action] + alpha * (y - Q[state, action])\n",
    "\n",
    "            # Move to the next state\n",
    "            state = next_state\n",
    "        # Record max value and max action for visualization purpose only\n",
    "        for s in range(num_states):\n",
    "            V[k,s]  = np.max(Q[s,:])\n",
    "            pi[k,s] = np.argmax(Q[s,:])\n",
    "    d2l.show_Q_function_progress(env_desc, V[:-1], pi[:-1])\n",
    "\n",
    "q_learning(env_info=env_info, gamma=gamma, num_iters=num_iters, alpha=alpha, epsilon=epsilon)"
   ]
  },
  {
   "cell_type": "markdown",
   "id": "40a4d29b",
   "metadata": {
    "origin_pos": 7
   },
   "source": [
    "This result shows that Q-learning can find the optimal solution for this problem roughly after 250 iterations. However, when we compare this result with the Value Iteration algorithm's result (see :ref:`subsec_valueitercode`), we can see that the Value Iteration algorithm needs way fewer iterations to find the optimal solution for this problem. This happens because the Value Iteration algorithm has access to the full MDP whereas Q-learning does not.\n",
    "\n",
    "\n",
    "## Summary\n",
    "Q-learning is one of the most fundamental reinforcement-learning algorithms. It has been at the epicenter of the recent success of reinforcement learning, most notably in learning to play video games :cite:`mnih2013playing`. Implementing Q-learning does not require that we know the Markov decision process (MDP), e.g., the transition and reward functions, completely.\n",
    "\n",
    "## Exercises\n",
    "\n",
    "1. Try increasing the grid size to $8 \\times 8$. Compared with $4 \\times 4$ grid, how many iterations does it take to find the optimal value function?\n",
    "1. Run the Q-learning algorithm again with $\\gamma$ (i.e. \"gamma\" in the above code) when it equals to $0$, $0.5$, and $1$ and analyze its results.\n",
    "1. Run the Q-learning algorithm again with $\\epsilon$ (i.e. \"epsilon\" in the above code) when it equals to $0$, $0.5$, and $1$ and analyze its results.\n"
   ]
  },
  {
   "cell_type": "markdown",
   "id": "7696555b",
   "metadata": {
    "origin_pos": 8,
    "tab": [
     "pytorch"
    ]
   },
   "source": [
    "[Discussions](https://discuss.d2l.ai/t/12103)\n"
   ]
  }
 ],
 "metadata": {
  "kernelspec": {
   "display_name": "Python 3",
   "language": "python",
   "name": "python3"
  },
  "language_info": {
   "codemirror_mode": {
    "name": "ipython",
    "version": 3
   },
   "file_extension": ".py",
   "mimetype": "text/x-python",
   "name": "python",
   "nbconvert_exporter": "python",
   "pygments_lexer": "ipython3",
   "version": "3.10.11"
  },
  "required_libs": [
   "\"setuptools==66\"",
   "\"wheel==0.38.4\"",
   "\"gym==0.21.0\""
  ]
 },
 "nbformat": 4,
 "nbformat_minor": 5
}
