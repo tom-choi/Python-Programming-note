{
 "cells": [
  {
   "cell_type": "markdown",
   "id": "d5c1bb12",
   "metadata": {
    "origin_pos": 1
   },
   "source": [
    "# Parameter Management\n",
    "\n",
    "Once we have chosen an architecture\n",
    "and set our hyperparameters,\n",
    "we proceed to the training loop,\n",
    "where our goal is to find parameter values\n",
    "that minimize our loss function.\n",
    "After training, we will need these parameters\n",
    "in order to make future predictions.\n",
    "Additionally, we will sometimes wish\n",
    "to extract the parameters\n",
    "perhaps to reuse them in some other context,\n",
    "to save our model to disk so that\n",
    "it may be executed in other software,\n",
    "or for examination in the hope of\n",
    "gaining scientific understanding.\n",
    "\n",
    "Most of the time, we will be able\n",
    "to ignore the nitty-gritty details\n",
    "of how parameters are declared\n",
    "and manipulated, relying on deep learning frameworks\n",
    "to do the heavy lifting.\n",
    "However, when we move away from\n",
    "stacked architectures with standard layers,\n",
    "we will sometimes need to get into the weeds\n",
    "of declaring and manipulating parameters.\n",
    "In this section, we cover the following:\n",
    "\n",
    "* Accessing parameters for debugging, diagnostics, and visualizations.\n",
    "* Sharing parameters across different model components.\n"
   ]
  },
  {
   "cell_type": "code",
   "execution_count": 1,
   "id": "28c3500f",
   "metadata": {
    "execution": {
     "iopub.execute_input": "2023-08-18T07:03:16.267500Z",
     "iopub.status.busy": "2023-08-18T07:03:16.266934Z",
     "iopub.status.idle": "2023-08-18T07:03:18.028370Z",
     "shell.execute_reply": "2023-08-18T07:03:18.027494Z"
    },
    "origin_pos": 3,
    "tab": [
     "pytorch"
    ]
   },
   "outputs": [],
   "source": [
    "import torch\n",
    "from torch import nn"
   ]
  },
  {
   "cell_type": "markdown",
   "id": "57cec4bd",
   "metadata": {
    "origin_pos": 6
   },
   "source": [
    "(**We start by focusing on an MLP with one hidden layer.**)\n"
   ]
  },
  {
   "cell_type": "code",
   "execution_count": 2,
   "id": "4a5271ed",
   "metadata": {
    "execution": {
     "iopub.execute_input": "2023-08-18T07:03:18.032610Z",
     "iopub.status.busy": "2023-08-18T07:03:18.031951Z",
     "iopub.status.idle": "2023-08-18T07:03:18.064091Z",
     "shell.execute_reply": "2023-08-18T07:03:18.063329Z"
    },
    "origin_pos": 8,
    "tab": [
     "pytorch"
    ]
   },
   "outputs": [
    {
     "name": "stderr",
     "output_type": "stream",
     "text": [
      "f:\\python3.10\\lib\\site-packages\\torch\\nn\\modules\\lazy.py:180: UserWarning: Lazy modules are a new feature under heavy development so changes to the API or functionality can happen at any moment.\n",
      "  warnings.warn('Lazy modules are a new feature under heavy development '\n"
     ]
    },
    {
     "data": {
      "text/plain": [
       "torch.Size([2, 1])"
      ]
     },
     "execution_count": 2,
     "metadata": {},
     "output_type": "execute_result"
    }
   ],
   "source": [
    "net = nn.Sequential(nn.LazyLinear(8),\n",
    "                    nn.ReLU(),\n",
    "                    nn.LazyLinear(1))\n",
    "\n",
    "X = torch.rand(size=(2, 4))\n",
    "net(X).shape"
   ]
  },
  {
   "cell_type": "markdown",
   "id": "802e1719",
   "metadata": {
    "origin_pos": 11
   },
   "source": [
    "## [**Parameter Access**]\n",
    ":label:`subsec_param-access`\n",
    "\n",
    "Let's start with how to access parameters\n",
    "from the models that you already know.\n"
   ]
  },
  {
   "cell_type": "markdown",
   "id": "730de8c2",
   "metadata": {
    "origin_pos": 12,
    "tab": [
     "pytorch"
    ]
   },
   "source": [
    "When a model is defined via the `Sequential` class,\n",
    "we can first access any layer by indexing\n",
    "into the model as though it were a list.\n",
    "Each layer's parameters are conveniently\n",
    "located in its attribute.\n"
   ]
  },
  {
   "cell_type": "markdown",
   "id": "e36298ff",
   "metadata": {
    "origin_pos": 14
   },
   "source": [
    "We can inspect the parameters of the second fully connected layer as follows.\n"
   ]
  },
  {
   "cell_type": "code",
   "execution_count": 3,
   "id": "173c1f4f",
   "metadata": {
    "execution": {
     "iopub.execute_input": "2023-08-18T07:03:18.067481Z",
     "iopub.status.busy": "2023-08-18T07:03:18.067185Z",
     "iopub.status.idle": "2023-08-18T07:03:18.074263Z",
     "shell.execute_reply": "2023-08-18T07:03:18.073500Z"
    },
    "origin_pos": 16,
    "tab": [
     "pytorch"
    ]
   },
   "outputs": [
    {
     "data": {
      "text/plain": [
       "OrderedDict([('weight',\n",
       "              tensor([[-0.1191, -0.0837, -0.3125, -0.0153, -0.3069, -0.3501, -0.2295, -0.1643]])),\n",
       "             ('bias', tensor([-0.2883]))])"
      ]
     },
     "execution_count": 3,
     "metadata": {},
     "output_type": "execute_result"
    }
   ],
   "source": [
    "net[2].state_dict()"
   ]
  },
  {
   "cell_type": "markdown",
   "id": "1fbe197d",
   "metadata": {
    "origin_pos": 19
   },
   "source": [
    "We can see that this fully connected layer\n",
    "contains two parameters,\n",
    "corresponding to that layer's\n",
    "weights and biases, respectively.\n",
    "\n",
    "\n",
    "### [**Targeted Parameters**]\n",
    "\n",
    "Note that each parameter is represented\n",
    "as an instance of the parameter class.\n",
    "To do anything useful with the parameters,\n",
    "we first need to access the underlying numerical values.\n",
    "There are several ways to do this.\n",
    "Some are simpler while others are more general.\n",
    "The following code extracts the bias\n",
    "from the second neural network layer, which returns a parameter class instance, and\n",
    "further accesses that parameter's value.\n"
   ]
  },
  {
   "cell_type": "code",
   "execution_count": 4,
   "id": "490d8858",
   "metadata": {
    "execution": {
     "iopub.execute_input": "2023-08-18T07:03:18.078157Z",
     "iopub.status.busy": "2023-08-18T07:03:18.077641Z",
     "iopub.status.idle": "2023-08-18T07:03:18.083771Z",
     "shell.execute_reply": "2023-08-18T07:03:18.083009Z"
    },
    "origin_pos": 21,
    "tab": [
     "pytorch"
    ]
   },
   "outputs": [
    {
     "data": {
      "text/plain": [
       "(torch.nn.parameter.Parameter, tensor([-0.2883]))"
      ]
     },
     "execution_count": 4,
     "metadata": {},
     "output_type": "execute_result"
    }
   ],
   "source": [
    "type(net[2].bias), net[2].bias.data"
   ]
  },
  {
   "cell_type": "markdown",
   "id": "ab869f56",
   "metadata": {
    "origin_pos": 24,
    "tab": [
     "pytorch"
    ]
   },
   "source": [
    "Parameters are complex objects,\n",
    "containing values, gradients,\n",
    "and additional information.\n",
    "That is why we need to request the value explicitly.\n",
    "\n",
    "In addition to the value, each parameter also allows us to access the gradient. Because we have not invoked backpropagation for this network yet, it is in its initial state.\n"
   ]
  },
  {
   "cell_type": "code",
   "execution_count": 5,
   "id": "d2f52b89",
   "metadata": {
    "execution": {
     "iopub.execute_input": "2023-08-18T07:03:18.087332Z",
     "iopub.status.busy": "2023-08-18T07:03:18.086588Z",
     "iopub.status.idle": "2023-08-18T07:03:18.091863Z",
     "shell.execute_reply": "2023-08-18T07:03:18.091037Z"
    },
    "origin_pos": 27,
    "tab": [
     "pytorch"
    ]
   },
   "outputs": [
    {
     "data": {
      "text/plain": [
       "True"
      ]
     },
     "execution_count": 5,
     "metadata": {},
     "output_type": "execute_result"
    }
   ],
   "source": [
    "net[2].weight.grad == None"
   ]
  },
  {
   "cell_type": "markdown",
   "id": "d7cad27b",
   "metadata": {
    "origin_pos": 28
   },
   "source": [
    "### [**All Parameters at Once**]\n",
    "\n",
    "When we need to perform operations on all parameters,\n",
    "accessing them one-by-one can grow tedious.\n",
    "The situation can grow especially unwieldy\n",
    "when we work with more complex, e.g., nested, modules,\n",
    "since we would need to recurse\n",
    "through the entire tree to extract\n",
    "each sub-module's parameters. Below we demonstrate accessing the parameters of all layers.\n"
   ]
  },
  {
   "cell_type": "code",
   "execution_count": 6,
   "id": "d9e7339f",
   "metadata": {
    "execution": {
     "iopub.execute_input": "2023-08-18T07:03:18.095233Z",
     "iopub.status.busy": "2023-08-18T07:03:18.094688Z",
     "iopub.status.idle": "2023-08-18T07:03:18.100280Z",
     "shell.execute_reply": "2023-08-18T07:03:18.099481Z"
    },
    "origin_pos": 30,
    "tab": [
     "pytorch"
    ]
   },
   "outputs": [
    {
     "data": {
      "text/plain": [
       "[('0.weight', torch.Size([8, 4])),\n",
       " ('0.bias', torch.Size([8])),\n",
       " ('2.weight', torch.Size([1, 8])),\n",
       " ('2.bias', torch.Size([1]))]"
      ]
     },
     "execution_count": 6,
     "metadata": {},
     "output_type": "execute_result"
    }
   ],
   "source": [
    "[(name, param.shape) for name, param in net.named_parameters()]"
   ]
  },
  {
   "cell_type": "markdown",
   "id": "b39139ed",
   "metadata": {
    "origin_pos": 33
   },
   "source": [
    "## [**Tied Parameters**]\n",
    "\n",
    "Often, we want to share parameters across multiple layers.\n",
    "Let's see how to do this elegantly.\n",
    "In the following we allocate a fully connected layer\n",
    "and then use its parameters specifically\n",
    "to set those of another layer.\n",
    "Here we need to run the forward propagation\n",
    "`net(X)` before accessing the parameters.\n"
   ]
  },
  {
   "cell_type": "code",
   "execution_count": 7,
   "id": "3468f1ab",
   "metadata": {
    "execution": {
     "iopub.execute_input": "2023-08-18T07:03:18.103707Z",
     "iopub.status.busy": "2023-08-18T07:03:18.103163Z",
     "iopub.status.idle": "2023-08-18T07:03:18.112542Z",
     "shell.execute_reply": "2023-08-18T07:03:18.111715Z"
    },
    "origin_pos": 35,
    "tab": [
     "pytorch"
    ]
   },
   "outputs": [
    {
     "name": "stdout",
     "output_type": "stream",
     "text": [
      "tensor([True, True, True, True, True, True, True, True])\n",
      "tensor([True, True, True, True, True, True, True, True])\n"
     ]
    }
   ],
   "source": [
    "# We need to give the shared layer a name so that we can refer to its\n",
    "# parameters\n",
    "shared = nn.LazyLinear(8)\n",
    "net = nn.Sequential(nn.LazyLinear(8), nn.ReLU(),\n",
    "                    shared, nn.ReLU(),\n",
    "                    shared, nn.ReLU(),\n",
    "                    nn.LazyLinear(1))\n",
    "\n",
    "net(X)\n",
    "# Check whether the parameters are the same\n",
    "print(net[2].weight.data[0] == net[4].weight.data[0])\n",
    "net[2].weight.data[0, 0] = 100\n",
    "# Make sure that they are actually the same object rather than just having the\n",
    "# same value\n",
    "print(net[2].weight.data[0] == net[4].weight.data[0])"
   ]
  },
  {
   "cell_type": "markdown",
   "id": "39c8abad",
   "metadata": {
    "origin_pos": 38
   },
   "source": [
    "This example shows that the parameters\n",
    "of the second and third layer are tied.\n",
    "They are not just equal, they are\n",
    "represented by the same exact tensor.\n",
    "Thus, if we change one of the parameters,\n",
    "the other one changes, too.\n"
   ]
  },
  {
   "cell_type": "markdown",
   "id": "25614d48",
   "metadata": {
    "origin_pos": 39,
    "tab": [
     "pytorch"
    ]
   },
   "source": [
    "You might wonder,\n",
    "when parameters are tied\n",
    "what happens to the gradients?\n",
    "Since the model parameters contain gradients,\n",
    "the gradients of the second hidden layer\n",
    "and the third hidden layer are added together\n",
    "during backpropagation.\n"
   ]
  },
  {
   "cell_type": "markdown",
   "id": "ed8cfd06",
   "metadata": {
    "origin_pos": 40
   },
   "source": [
    "## Summary\n",
    "\n",
    "We have several ways of accessing and tying model parameters.\n",
    "\n",
    "\n",
    "## Exercises\n",
    "\n",
    "1. Use the `NestMLP` model defined in :numref:`sec_model_construction` and access the parameters of the various layers.\n",
    "1. Construct an MLP containing a shared parameter layer and train it. During the training process, observe the model parameters and gradients of each layer.\n",
    "1. Why is sharing parameters a good idea?\n"
   ]
  },
  {
   "cell_type": "code",
   "execution_count": 12,
   "id": "33492e6c",
   "metadata": {},
   "outputs": [
    {
     "data": {
      "text/plain": [
       "OrderedDict([('net.0.weight',\n",
       "              tensor([[ 9.0082e-02,  2.3021e-01,  1.7536e-01,  1.4322e-01],\n",
       "                      [-3.3212e-02, -8.0548e-02, -1.2184e-01, -1.0555e-01],\n",
       "                      [-2.2226e-01,  1.0071e-01,  2.2160e-01, -4.2806e-01],\n",
       "                      [-4.5534e-01,  3.1762e-01,  5.4587e-02,  3.0779e-01],\n",
       "                      [-9.4723e-03, -7.7696e-02, -9.1043e-02, -1.3895e-01],\n",
       "                      [-3.5075e-01,  3.6731e-01,  9.1707e-02, -7.2857e-03],\n",
       "                      [-1.1635e-01,  3.5956e-01,  1.1468e-01, -1.4808e-01],\n",
       "                      [ 1.3008e-01,  2.4491e-02,  4.7931e-01, -3.7240e-02],\n",
       "                      [ 3.9615e-01, -8.7970e-02,  2.7384e-01, -2.1141e-01],\n",
       "                      [ 2.0409e-01, -7.6752e-02, -1.7532e-01,  9.3832e-02],\n",
       "                      [-1.4134e-01,  5.8932e-02,  6.4645e-02,  3.6741e-01],\n",
       "                      [-2.5373e-01,  1.8738e-01,  2.2140e-02,  4.6268e-01],\n",
       "                      [ 2.0946e-01,  2.1124e-03,  1.3199e-01,  4.1606e-01],\n",
       "                      [ 3.0734e-01, -1.0933e-02, -3.8479e-01, -2.9149e-01],\n",
       "                      [ 4.6152e-01, -8.9105e-02, -1.3578e-02, -4.7939e-01],\n",
       "                      [-6.4777e-02,  4.1117e-01, -3.0486e-02,  2.7026e-01],\n",
       "                      [-3.3480e-01, -2.0262e-01,  1.7126e-01,  1.2032e-01],\n",
       "                      [ 4.9460e-01,  1.8921e-01,  2.5671e-01, -1.2177e-01],\n",
       "                      [-2.0515e-01,  3.8598e-02, -8.4639e-03, -3.4599e-01],\n",
       "                      [-3.7062e-01, -3.6374e-03, -3.7598e-01,  3.8946e-01],\n",
       "                      [ 2.2742e-01, -4.4608e-01,  3.0830e-01, -3.6647e-01],\n",
       "                      [ 2.6066e-01, -4.6952e-01, -4.7847e-01, -2.3380e-01],\n",
       "                      [ 3.0926e-01, -3.5138e-01,  9.0208e-02,  9.0880e-03],\n",
       "                      [-5.5445e-02,  1.0084e-01, -4.3081e-02, -2.7479e-01],\n",
       "                      [-3.7024e-01, -3.1743e-01, -3.6104e-01,  2.1134e-02],\n",
       "                      [ 6.4834e-02,  9.2864e-05,  2.3210e-01, -4.4092e-02],\n",
       "                      [-1.3082e-01, -2.3130e-02, -1.4584e-02,  4.5022e-01],\n",
       "                      [-3.5975e-01,  7.2870e-02,  4.9982e-01, -3.6005e-01],\n",
       "                      [-1.0095e-02, -2.3123e-01, -1.1149e-01,  1.0681e-01],\n",
       "                      [-4.8723e-01, -9.3880e-02,  3.5235e-01, -2.1207e-01],\n",
       "                      [-7.8872e-02,  3.6878e-02,  1.0410e-02,  1.9928e-02],\n",
       "                      [-1.7090e-01, -8.6146e-02,  3.5148e-02, -3.6170e-01],\n",
       "                      [-2.1298e-01,  6.7477e-02, -1.5287e-02,  1.6844e-01],\n",
       "                      [-3.7924e-01, -3.7764e-01, -1.0672e-01, -3.0777e-01],\n",
       "                      [-4.6533e-01,  2.0330e-01,  4.3129e-01, -7.8888e-02],\n",
       "                      [ 2.7545e-01,  3.2397e-01,  2.1298e-02, -3.9444e-01],\n",
       "                      [-1.2650e-02,  1.4433e-01,  4.5800e-01, -2.2890e-01],\n",
       "                      [ 3.9979e-01,  3.0409e-01,  4.8287e-01, -4.7089e-01],\n",
       "                      [ 1.6929e-01,  4.3703e-01, -1.6600e-01,  3.1174e-01],\n",
       "                      [ 4.9509e-02, -3.2862e-02,  4.4162e-01,  2.9734e-01],\n",
       "                      [ 4.0173e-01, -1.4572e-01,  1.1650e-01, -1.6670e-02],\n",
       "                      [ 2.3030e-02, -2.5979e-01,  3.1226e-01,  4.3223e-01],\n",
       "                      [-6.5730e-03,  1.4869e-01, -3.7119e-02,  2.9249e-01],\n",
       "                      [-3.1117e-01,  3.8215e-01,  2.7367e-01, -3.4449e-01],\n",
       "                      [ 2.9978e-01, -4.7119e-01,  4.7472e-01, -4.0704e-01],\n",
       "                      [-4.2782e-01,  4.9861e-02, -4.6796e-02,  1.8674e-01],\n",
       "                      [-3.1461e-01, -4.7018e-01,  2.0974e-01,  1.2471e-01],\n",
       "                      [ 2.8125e-01,  3.9347e-01, -2.7596e-01,  7.6963e-02],\n",
       "                      [-3.2842e-01, -2.0177e-02, -1.0653e-02,  3.5186e-03],\n",
       "                      [-6.3960e-02, -3.3364e-01, -3.8989e-01,  3.6671e-01],\n",
       "                      [-5.0502e-02,  1.1771e-02, -2.6453e-01, -4.0448e-01],\n",
       "                      [ 2.7334e-01,  8.8764e-02,  4.6814e-01, -1.5366e-01],\n",
       "                      [ 3.0764e-01,  2.5046e-01, -5.0771e-02,  4.1249e-01],\n",
       "                      [ 4.3159e-01, -3.7482e-01,  7.3818e-02,  4.3921e-03],\n",
       "                      [-6.5682e-02, -2.7311e-01, -8.7462e-02, -4.3504e-01],\n",
       "                      [-6.2307e-02, -2.6810e-01, -1.1721e-01,  3.1670e-01],\n",
       "                      [-2.4523e-02, -4.8459e-01, -4.8360e-01,  8.8386e-02],\n",
       "                      [ 4.8621e-01, -3.0596e-01, -3.6267e-01, -3.6626e-01],\n",
       "                      [-2.7804e-01,  4.3909e-01, -3.7453e-01, -1.9665e-01],\n",
       "                      [ 2.6850e-01,  2.8018e-01, -3.2947e-01,  4.8106e-01],\n",
       "                      [-3.7186e-01,  1.2146e-01, -1.6961e-02,  3.4596e-01],\n",
       "                      [ 1.3701e-01, -1.2708e-01, -3.3284e-01,  2.1084e-01],\n",
       "                      [ 5.8089e-02, -3.6064e-01, -1.4332e-01,  2.1281e-01],\n",
       "                      [-3.4475e-01, -2.7410e-01,  1.4655e-01, -2.1414e-01]])),\n",
       "             ('net.0.bias',\n",
       "              tensor([ 0.3009, -0.1154, -0.4364,  0.0641, -0.3414, -0.4443, -0.0114, -0.0141,\n",
       "                      -0.2520, -0.3126,  0.4854,  0.3548, -0.4140,  0.2921,  0.0959, -0.2013,\n",
       "                       0.1246, -0.2536,  0.4964,  0.3432,  0.2144, -0.4145,  0.2843, -0.1988,\n",
       "                      -0.2232, -0.2973, -0.0510, -0.3389, -0.3568, -0.0372,  0.0540, -0.1672,\n",
       "                      -0.4344,  0.1743, -0.3371, -0.1708, -0.3738, -0.0161, -0.0946, -0.1377,\n",
       "                      -0.1376,  0.1792,  0.3701, -0.0491,  0.3381, -0.3155, -0.3225,  0.3985,\n",
       "                       0.3685, -0.2649, -0.3570,  0.3910, -0.3751,  0.2826, -0.3809, -0.2567,\n",
       "                       0.0020,  0.4531,  0.2413, -0.0861, -0.2213,  0.0972, -0.0502,  0.0757])),\n",
       "             ('net.2.weight',\n",
       "              tensor([[-0.1076,  0.0904,  0.0834,  ...,  0.1135, -0.0783,  0.1160],\n",
       "                      [-0.0686, -0.0939, -0.0951,  ...,  0.0567,  0.0579, -0.0806],\n",
       "                      [-0.1153,  0.0102, -0.0418,  ...,  0.0458,  0.0355,  0.0796],\n",
       "                      ...,\n",
       "                      [-0.0593, -0.0586, -0.0140,  ...,  0.0128,  0.0182, -0.0670],\n",
       "                      [-0.1164, -0.0244, -0.0217,  ...,  0.0399, -0.1208, -0.0327],\n",
       "                      [ 0.0569,  0.0430,  0.0692,  ...,  0.0287,  0.0078, -0.0834]])),\n",
       "             ('net.2.bias',\n",
       "              tensor([ 8.1873e-02,  1.0241e-01, -1.1742e-01,  2.6987e-02, -1.2037e-01,\n",
       "                      -1.9140e-02, -1.1346e-01,  6.3434e-05, -4.2152e-02,  2.0273e-02,\n",
       "                       2.5311e-02, -7.7545e-02, -1.1741e-01,  3.2546e-02, -9.5169e-02,\n",
       "                      -2.7986e-02, -1.0757e-01, -1.2499e-01,  3.0152e-02, -7.1541e-02,\n",
       "                       1.0244e-01,  6.3412e-02,  8.9337e-02,  4.2444e-02, -3.0036e-02,\n",
       "                      -9.8622e-02,  1.6421e-04,  7.1891e-02, -6.8887e-02,  5.5258e-02,\n",
       "                      -1.1401e-02,  9.0795e-02])),\n",
       "             ('linear.weight',\n",
       "              tensor([[ 6.0986e-02, -2.2555e-02, -1.4750e-01, -1.2549e-01,  1.5307e-01,\n",
       "                        3.2598e-04, -1.0076e-01, -1.2489e-01,  7.3907e-02, -1.7106e-01,\n",
       "                       -2.5019e-02, -8.5333e-02, -3.7387e-05,  8.3331e-02, -1.7508e-01,\n",
       "                        4.2930e-02, -3.8372e-02,  9.0206e-02,  1.4397e-01,  1.3923e-01,\n",
       "                        1.2947e-01, -9.8603e-02, -1.8050e-02, -4.0273e-02, -5.3359e-02,\n",
       "                        7.2899e-03, -1.4701e-01, -8.0411e-02,  1.1293e-01, -6.1889e-02,\n",
       "                       -1.2255e-01, -1.0057e-01],\n",
       "                      [ 1.5119e-02,  8.1878e-02,  3.9188e-03,  1.6329e-01, -1.7223e-01,\n",
       "                       -1.6624e-01, -4.3257e-02, -1.3224e-01, -1.2658e-01,  1.0858e-01,\n",
       "                       -1.1184e-01, -1.4324e-01, -1.4224e-01,  1.2990e-01,  6.1664e-02,\n",
       "                       -1.0444e-02,  4.3843e-02, -1.7048e-01,  1.3421e-01, -5.3171e-02,\n",
       "                        1.4445e-01,  9.1055e-02, -1.1599e-01,  1.4999e-01, -3.3878e-02,\n",
       "                       -1.2829e-01,  1.7031e-01,  1.3670e-01, -1.3267e-01,  8.9963e-02,\n",
       "                        1.7600e-01, -1.3077e-01],\n",
       "                      [-1.4466e-01,  1.7627e-01, -4.9361e-02, -1.1259e-01,  1.6365e-01,\n",
       "                       -1.0160e-01,  1.3657e-01, -1.3495e-01, -1.2867e-01,  1.3025e-01,\n",
       "                        7.7431e-02, -1.6189e-01, -8.3944e-02,  2.1768e-02,  1.0956e-01,\n",
       "                        1.2986e-02, -6.6160e-02,  2.3012e-02, -4.0277e-02, -4.2107e-02,\n",
       "                       -1.0651e-01, -7.0606e-02, -1.4080e-01,  9.8387e-02,  1.6780e-01,\n",
       "                       -2.9652e-02, -4.9622e-02,  1.0642e-01,  2.1583e-02,  1.2475e-01,\n",
       "                        1.3504e-01,  1.7509e-01],\n",
       "                      [-9.0990e-02,  6.5606e-02,  1.1931e-01,  1.6878e-01,  2.0896e-02,\n",
       "                        5.8044e-02,  1.2529e-01, -1.0327e-01, -7.0580e-02, -1.5576e-01,\n",
       "                       -5.5588e-02,  1.7666e-01,  1.2255e-01,  1.5447e-01,  1.5403e-01,\n",
       "                        4.4676e-02,  1.6097e-01,  5.5615e-02, -1.5833e-01, -7.6467e-02,\n",
       "                        1.2101e-02,  1.0831e-01,  1.1200e-01,  1.2432e-01, -1.2126e-01,\n",
       "                        1.2563e-01,  1.0847e-01, -3.5274e-02,  1.3005e-01, -1.4412e-01,\n",
       "                        1.6212e-01, -1.0568e-01],\n",
       "                      [-8.8246e-02,  3.0568e-02,  6.7549e-02, -4.8852e-02, -1.0469e-01,\n",
       "                        4.2562e-02, -1.5228e-01, -1.0412e-01, -1.4268e-02,  1.5510e-01,\n",
       "                        1.7777e-02, -9.1559e-02, -7.0639e-02,  3.5231e-02,  7.5154e-02,\n",
       "                        4.7737e-02, -9.6172e-02,  1.2585e-01, -6.1368e-02, -1.3826e-01,\n",
       "                       -1.8487e-02, -1.5732e-01,  4.1276e-02, -1.5889e-01,  8.9574e-02,\n",
       "                        7.5811e-02,  1.6322e-01,  1.1519e-01,  3.3846e-02,  1.0490e-01,\n",
       "                       -1.6646e-01, -3.7429e-02],\n",
       "                      [-1.5313e-01,  1.3001e-01, -9.8187e-02, -3.4318e-02,  1.1336e-01,\n",
       "                        6.7586e-02, -1.5293e-01, -1.3803e-01, -1.6888e-02, -1.0127e-01,\n",
       "                       -1.6710e-01, -1.9989e-02, -1.3870e-01, -1.5155e-02, -4.1627e-02,\n",
       "                       -1.2686e-02, -5.3315e-02, -4.4026e-03,  9.5671e-02, -5.1218e-02,\n",
       "                        1.3766e-01,  4.9895e-02, -2.1091e-03, -1.7292e-01, -1.4360e-01,\n",
       "                        1.1758e-01,  1.7657e-02,  1.2808e-01, -6.1024e-02, -1.6096e-01,\n",
       "                        1.4584e-01, -3.9294e-02],\n",
       "                      [-5.7799e-02,  5.5692e-02,  1.2082e-01,  5.1212e-02, -1.5965e-01,\n",
       "                        5.1368e-02,  1.4621e-01, -6.7403e-02,  1.2788e-01,  1.4152e-01,\n",
       "                        9.2066e-02,  1.0156e-01,  1.5856e-01,  1.4148e-01, -6.1430e-02,\n",
       "                       -9.2511e-03,  6.1077e-02,  8.7740e-03, -1.5150e-02, -1.6219e-01,\n",
       "                       -9.9271e-02,  1.2450e-01,  9.9195e-02, -1.6296e-01,  1.4062e-01,\n",
       "                        4.6249e-02,  8.1485e-02,  3.4193e-02,  4.3660e-04, -1.4783e-01,\n",
       "                        1.3335e-01,  1.7382e-01],\n",
       "                      [ 1.8332e-02, -8.5569e-02, -5.1467e-03,  3.7651e-03, -3.7247e-02,\n",
       "                       -8.3355e-02, -4.8134e-02,  8.3206e-03, -7.8600e-02,  1.5233e-01,\n",
       "                       -8.4893e-02, -1.5409e-01, -1.3594e-01,  1.8407e-02, -2.3695e-02,\n",
       "                        6.6839e-02, -8.8782e-02, -7.9957e-02,  1.2794e-01, -1.4319e-01,\n",
       "                       -1.8657e-02,  6.2147e-02,  7.5203e-02,  1.4821e-01, -1.2489e-01,\n",
       "                       -1.4282e-01,  4.5795e-02, -1.4234e-01,  4.3989e-02, -1.3971e-01,\n",
       "                        1.2253e-01,  1.5788e-01],\n",
       "                      [ 1.4982e-01,  7.6416e-02, -7.1945e-02,  9.9942e-03, -1.0483e-01,\n",
       "                       -1.1298e-01, -6.2801e-02, -6.2827e-02, -1.7406e-03,  7.2066e-02,\n",
       "                       -1.5561e-01,  1.6634e-01, -1.6055e-01, -1.5106e-01,  4.7246e-02,\n",
       "                        1.2699e-01, -1.6878e-01,  4.6744e-02,  1.5415e-01, -1.1339e-01,\n",
       "                       -8.9243e-02, -1.4660e-01, -1.4004e-02,  7.2099e-02,  1.5978e-01,\n",
       "                        7.9404e-02,  1.0136e-01, -6.5019e-02,  7.9762e-02, -1.0537e-01,\n",
       "                        3.2205e-02,  1.7600e-01],\n",
       "                      [ 1.1881e-01,  9.4400e-02, -1.3862e-02, -6.3060e-02,  6.9266e-02,\n",
       "                        1.1432e-01, -1.3505e-01,  1.0791e-01,  2.0995e-02,  1.7151e-01,\n",
       "                       -1.2796e-01,  2.0966e-02, -1.0438e-01, -1.0614e-01, -1.0954e-02,\n",
       "                       -1.0529e-01,  1.1949e-01,  1.4525e-01,  1.8406e-02,  2.9515e-02,\n",
       "                        2.9256e-02,  1.5996e-01, -3.0834e-03, -2.5219e-02,  1.0401e-01,\n",
       "                       -8.0646e-02,  5.7413e-02, -9.3089e-02, -5.3704e-02, -4.9102e-02,\n",
       "                       -1.2743e-01, -8.2409e-02],\n",
       "                      [ 5.8755e-02, -1.3884e-01, -3.0964e-02, -1.6603e-01, -1.1088e-01,\n",
       "                       -1.4002e-01, -9.9748e-02,  1.6884e-01,  6.4771e-02, -2.9471e-02,\n",
       "                        8.5706e-02, -8.1837e-02,  1.6228e-01,  1.3859e-01, -3.6290e-02,\n",
       "                        1.6646e-01,  5.6591e-02,  1.2758e-01, -1.3098e-01, -4.0353e-02,\n",
       "                       -7.1828e-03, -5.0997e-03, -1.4622e-01, -1.4346e-01,  9.7832e-02,\n",
       "                       -1.9041e-02, -6.1794e-02, -2.7861e-02, -1.3675e-02,  8.9006e-03,\n",
       "                       -8.9265e-02, -3.1116e-02],\n",
       "                      [ 1.2447e-01, -1.3240e-01,  4.9012e-02,  1.7486e-01,  1.1318e-01,\n",
       "                       -5.2761e-02,  5.6076e-02, -3.6353e-02,  9.0885e-02,  5.4925e-02,\n",
       "                        4.5965e-02,  1.6902e-02, -1.5748e-01, -5.5753e-02, -1.7641e-01,\n",
       "                       -3.8274e-02, -1.0906e-02,  7.3671e-02,  1.2235e-01,  6.2472e-02,\n",
       "                       -1.0172e-01, -6.2907e-02, -2.4568e-02, -1.0119e-01, -9.3307e-02,\n",
       "                       -9.9501e-02, -1.5433e-02,  1.6773e-01, -1.6513e-01, -1.2518e-01,\n",
       "                        1.0826e-01,  1.2252e-01],\n",
       "                      [ 1.6668e-01, -1.1109e-01,  6.9479e-02,  6.8053e-02,  1.3617e-01,\n",
       "                       -2.9042e-03, -1.1611e-01, -6.7989e-02,  1.5732e-01, -1.2680e-01,\n",
       "                       -9.8344e-02, -3.4631e-02,  1.2589e-01, -4.2847e-02, -7.6603e-02,\n",
       "                       -1.4111e-01,  1.1816e-01, -4.5274e-02, -2.1806e-02,  8.9449e-02,\n",
       "                        1.0841e-01, -2.0753e-02,  8.4685e-02,  1.6325e-01,  1.8632e-02,\n",
       "                        8.2934e-02, -1.2825e-01,  1.5914e-01,  1.0360e-01,  2.3237e-02,\n",
       "                       -2.9331e-02,  1.1872e-01],\n",
       "                      [ 1.0801e-01, -1.3068e-01, -1.1295e-01, -1.2058e-01,  6.6222e-02,\n",
       "                        1.2779e-01,  1.2442e-01, -1.2894e-01, -1.7236e-01,  1.4199e-01,\n",
       "                        1.3045e-01,  4.9703e-03,  6.8378e-02, -1.5811e-01, -1.2324e-01,\n",
       "                        5.4363e-02,  6.0479e-02,  3.2978e-02, -4.2831e-02, -9.1132e-02,\n",
       "                        1.3539e-01, -5.8043e-02, -1.4738e-01,  8.8754e-03, -1.6339e-03,\n",
       "                       -1.1656e-02, -1.5027e-01,  4.5301e-02, -1.6772e-01,  3.7399e-02,\n",
       "                        5.1872e-02, -8.7344e-02],\n",
       "                      [-1.1227e-02, -2.2764e-02, -9.9938e-02,  1.3873e-01, -1.3732e-01,\n",
       "                        7.0267e-02,  5.3419e-02, -1.6689e-01,  1.7453e-01,  8.9266e-02,\n",
       "                       -6.4814e-02,  1.3982e-01, -1.9190e-03, -9.3149e-02,  1.7562e-03,\n",
       "                       -9.3932e-02,  1.7563e-01, -1.4579e-01,  1.0845e-02,  8.2097e-02,\n",
       "                       -5.3779e-02,  1.0185e-01, -1.1952e-01, -1.7220e-01, -1.0020e-01,\n",
       "                        1.1906e-01,  1.5851e-01,  1.1917e-02,  7.2853e-02,  1.5257e-01,\n",
       "                       -1.5827e-01, -1.0642e-02],\n",
       "                      [ 5.3612e-02,  1.4359e-01, -8.8584e-02, -2.1178e-02, -4.0761e-02,\n",
       "                        3.7215e-02,  1.7630e-01,  1.0154e-01,  6.7125e-02, -2.8586e-03,\n",
       "                        3.6850e-03,  5.6370e-02,  1.8111e-03,  1.5721e-01, -3.1893e-02,\n",
       "                        1.3889e-01, -4.4920e-02, -8.6799e-02, -1.5954e-01, -1.2621e-01,\n",
       "                       -5.4069e-02, -8.9326e-02, -1.5545e-01,  5.6931e-02, -9.8017e-02,\n",
       "                        1.7535e-01, -3.5415e-02, -2.4525e-02, -8.8035e-02,  1.4821e-01,\n",
       "                        4.5432e-02,  1.4476e-01]])),\n",
       "             ('linear.bias',\n",
       "              tensor([-0.0872,  0.1070, -0.1281,  0.0086, -0.0767, -0.0845,  0.0014, -0.0902,\n",
       "                       0.1056,  0.0605,  0.0874, -0.0139,  0.1764,  0.0450,  0.1269, -0.0868]))])"
      ]
     },
     "execution_count": 12,
     "metadata": {},
     "output_type": "execute_result"
    }
   ],
   "source": [
    "from torch.nn import functional as F\n",
    "class FixedHiddenMLP(nn.Module):\n",
    "    def __init__(self):\n",
    "        super().__init__()\n",
    "        # Random weight parameters that will not compute gradients and\n",
    "        # therefore keep constant during training\n",
    "        self.rand_weight = torch.rand((20, 20))\n",
    "        self.linear = nn.LazyLinear(20)\n",
    "\n",
    "    def forward(self, X):\n",
    "        X = self.linear(X)\n",
    "        X = F.relu(X @ self.rand_weight + 1)\n",
    "        # Reuse the fully connected layer. This is equivalent to sharing\n",
    "        # parameters with two fully connected layers\n",
    "        X = self.linear(X)\n",
    "        # Control flow\n",
    "        while X.abs().sum() > 1:\n",
    "            X /= 2\n",
    "        return X.sum()\n",
    "class NestMLP(nn.Module):\n",
    "    def __init__(self):\n",
    "        super().__init__()\n",
    "        self.net = nn.Sequential(nn.LazyLinear(64), nn.ReLU(),\n",
    "                                 nn.LazyLinear(32), nn.ReLU())\n",
    "        self.linear = nn.LazyLinear(16)\n",
    "\n",
    "    def forward(self, X):\n",
    "        return self.linear(self.net(X))\n",
    "\n",
    "chimera = nn.Sequential(NestMLP(), nn.LazyLinear(20), FixedHiddenMLP())\n",
    "chimera(X)\n",
    "chimera[0].state_dict()"
   ]
  },
  {
   "cell_type": "markdown",
   "id": "22a404f5",
   "metadata": {
    "origin_pos": 42,
    "tab": [
     "pytorch"
    ]
   },
   "source": [
    "[Discussions](https://discuss.d2l.ai/t/57)\n"
   ]
  }
 ],
 "metadata": {
  "kernelspec": {
   "display_name": "Python 3",
   "language": "python",
   "name": "python3"
  },
  "language_info": {
   "codemirror_mode": {
    "name": "ipython",
    "version": 3
   },
   "file_extension": ".py",
   "mimetype": "text/x-python",
   "name": "python",
   "nbconvert_exporter": "python",
   "pygments_lexer": "ipython3",
   "version": "3.10.11"
  },
  "required_libs": []
 },
 "nbformat": 4,
 "nbformat_minor": 5
}
