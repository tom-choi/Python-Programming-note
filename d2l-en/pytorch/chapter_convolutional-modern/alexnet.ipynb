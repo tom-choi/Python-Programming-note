{
 "cells": [
  {
   "cell_type": "markdown",
   "id": "63cbafbf",
   "metadata": {
    "origin_pos": 1
   },
   "source": [
    "# Deep Convolutional Neural Networks (AlexNet)\n",
    ":label:`sec_alexnet`\n",
    "\n",
    "\n",
    "Although CNNs were well known\n",
    "in the computer vision and machine learning communities\n",
    "following the introduction of LeNet :cite:`LeCun.Jackel.Bottou.ea.1995`,\n",
    "they did not immediately dominate the field.\n",
    "Although LeNet achieved good results on early small datasets,\n",
    "the performance and feasibility of training CNNs\n",
    "on larger, more realistic datasets had yet to be established.\n",
    "In fact, for much of the intervening time between the early 1990s\n",
    "and the watershed results of 2012 :cite:`Krizhevsky.Sutskever.Hinton.2012`,\n",
    "neural networks were often surpassed by other machine learning methods,\n",
    "such as kernel methods :cite:`Scholkopf.Smola.2002`, ensemble methods :cite:`Freund.Schapire.ea.1996`,\n",
    "and structured estimation :cite:`Taskar.Guestrin.Koller.2004`.\n",
    "\n",
    "For computer vision, this comparison is perhaps not entirely accurate.\n",
    "That is, although the inputs to convolutional networks\n",
    "consist of raw or lightly-processed (e.g., by centering) pixel values, practitioners would never feed raw pixels into traditional models.\n",
    "Instead, typical computer vision pipelines\n",
    "consisted of manually engineering feature extraction pipelines, such as SIFT :cite:`Lowe.2004`, SURF :cite:`Bay.Tuytelaars.Van-Gool.2006`, and bags of visual words :cite:`Sivic.Zisserman.2003`.\n",
    "Rather than *learning* the features, the features were *crafted*.\n",
    "Most of the progress came from having more clever ideas for feature extraction on the one hand and deep insight into geometry :cite:`Hartley.Zisserman.2000` on the other. The learning algorithm was often considered an afterthought.\n",
    "\n",
    "Although some neural network accelerators were available in the 1990s,\n",
    "they were not yet sufficiently powerful to make\n",
    "deep multichannel, multilayer CNNs\n",
    "with a large number of parameters. For instance, NVIDIA's GeForce 256 from 1999\n",
    "was able to process at most 480 million floating-point operations, such as additions and multiplications, per second (MFLOPS), without any meaningful\n",
    "programming framework for operations beyond games. Today's accelerators are able to perform in excess of 1000 TFLOPs per device.\n",
    "Moreover, datasets were still relatively small: OCR on 60,000 low-resolution $28 \\times 28$ pixel images was considered a highly challenging task.\n",
    "Added to these obstacles, key tricks for training neural networks\n",
    "including parameter initialization heuristics :cite:`Glorot.Bengio.2010`,\n",
    "clever variants of stochastic gradient descent :cite:`Kingma.Ba.2014`,\n",
    "non-squashing activation functions :cite:`Nair.Hinton.2010`,\n",
    "and effective regularization techniques :cite:`Srivastava.Hinton.Krizhevsky.ea.2014` were still missing.\n",
    "\n",
    "Thus, rather than training *end-to-end* (pixel to classification) systems,\n",
    "classical pipelines looked more like this:\n",
    "\n",
    "1. Obtain an interesting dataset. In the early days, these datasets required expensive sensors. For instance, the [Apple QuickTake 100](https://en.wikipedia.org/wiki/Apple_QuickTake) of 1994 sported a whopping 0.3 megapixel (VGA) resolution, capable of storing up to 8 images, all for the price of \\$1000.\n",
    "1. Preprocess the dataset with hand-crafted features based on some knowledge of optics, geometry, other analytic tools, and occasionally on the serendipitous discoveries by lucky graduate students.\n",
    "1. Feed the data through a standard set of feature extractors such as the SIFT (scale-invariant feature transform) :cite:`Lowe.2004`, the SURF (speeded up robust features) :cite:`Bay.Tuytelaars.Van-Gool.2006`, or any number of other hand-tuned pipelines. OpenCV still provides SIFT extractors to this day!\n",
    "1. Dump the resulting representations into your favorite classifier, likely a linear model or kernel method, to train a classifier.\n",
    "\n",
    "If you spoke to machine learning researchers,\n",
    "they would reply that machine learning was both important and beautiful.\n",
    "Elegant theories proved the properties of various classifiers :cite:`boucheron2005theory` and convex\n",
    "optimization :cite:`Boyd.Vandenberghe.2004` had become the mainstay for obtaining them.\n",
    "The field of machine learning was thriving, rigorous, and eminently useful. However,\n",
    "if you spoke to a computer vision researcher,\n",
    "you would hear a very different story.\n",
    "The dirty truth of image recognition, they would tell you,\n",
    "is that features, geometry :cite:`Hartley.Zisserman.2000,hartley2009global`, and engineering,\n",
    "rather than novel learning algorithms, drove progress.\n",
    "Computer vision researchers justifiably believed\n",
    "that a slightly bigger or cleaner dataset\n",
    "or a slightly improved feature-extraction pipeline\n",
    "mattered far more to the final accuracy than any learning algorithm.\n"
   ]
  },
  {
   "cell_type": "code",
   "execution_count": 2,
   "id": "66e4bc50",
   "metadata": {
    "attributes": {
     "classes": [],
     "id": "",
     "n": "3"
    },
    "execution": {
     "iopub.execute_input": "2023-08-18T07:47:06.685771Z",
     "iopub.status.busy": "2023-08-18T07:47:06.685142Z",
     "iopub.status.idle": "2023-08-18T07:47:09.595348Z",
     "shell.execute_reply": "2023-08-18T07:47:09.594139Z"
    },
    "origin_pos": 3,
    "tab": [
     "pytorch"
    ]
   },
   "outputs": [],
   "source": [
    "import torch\n",
    "from torch import nn\n",
    "from d2l import torch as d2l"
   ]
  },
  {
   "cell_type": "markdown",
   "id": "56f9b893",
   "metadata": {
    "origin_pos": 6
   },
   "source": [
    "## Representation Learning\n",
    "\n",
    "Another way to cast the state of affairs is that\n",
    "the most important part of the pipeline was the representation.\n",
    "And up until 2012 the representation was calculated mostly mechanically.\n",
    "In fact, engineering a new set of feature functions, improving results, and writing up the method\n",
    "all featured prominently in papers.\n",
    "SIFT :cite:`Lowe.2004`,\n",
    "SURF :cite:`Bay.Tuytelaars.Van-Gool.2006`,\n",
    "HOG (histograms of oriented gradient) :cite:`Dalal.Triggs.2005`,\n",
    "bags of visual words :cite:`Sivic.Zisserman.2003`,\n",
    "and similar feature extractors ruled the roost.\n",
    "\n",
    "Another group of researchers,\n",
    "including Yann LeCun, Geoff Hinton, Yoshua Bengio,\n",
    "Andrew Ng, Shun-ichi Amari, and Juergen Schmidhuber,\n",
    "had different plans.\n",
    "They believed that features themselves ought to be learned.\n",
    "Moreover, they believed that to be reasonably complex,\n",
    "the features ought to be hierarchically composed\n",
    "with multiple jointly learned layers, each with learnable parameters.\n",
    "In the case of an image, the lowest layers might come\n",
    "to detect edges, colors, and textures, by analogy with how the visual system in animals\n",
    "processes its input. In particular, the automatic design of visual features such as those obtained\n",
    "by sparse coding :cite:`olshausen1996emergence` remained an open challenge until the advent of modern CNNs.\n",
    "It was not until :citet:`Dean.Corrado.Monga.ea.2012,le2013building` that the idea of generating features\n",
    "from image data automatically gained significant traction.\n",
    "\n",
    "The first modern CNN :cite:`Krizhevsky.Sutskever.Hinton.2012`, named\n",
    "*AlexNet* after one of its inventors, Alex Krizhevsky, is largely an evolutionary improvement\n",
    "over LeNet. It achieved excellent performance in the 2012 ImageNet challenge.\n",
    "\n",
    "![Image filters learned by the first layer of AlexNet. Reproduction courtesy of :citet:`Krizhevsky.Sutskever.Hinton.2012`.](../img/filters.png)\n",
    ":width:`400px`\n",
    ":label:`fig_filters`\n",
    "\n",
    "Interestingly, in the lowest layers of the network,\n",
    "the model learned feature extractors that resembled some traditional filters.\n",
    ":numref:`fig_filters`\n",
    "shows lower-level image descriptors.\n",
    "Higher layers in the network might build upon these representations\n",
    "to represent larger structures, like eyes, noses, blades of grass, and so on.\n",
    "Even higher layers might represent whole objects\n",
    "like people, airplanes, dogs, or frisbees.\n",
    "Ultimately, the final hidden state learns a compact representation\n",
    "of the image that summarizes its contents\n",
    "such that data belonging to different categories can be easily separated.\n",
    "\n",
    "AlexNet (2012) and its precursor LeNet (1995) share many architectural elements. This begs the question: why did it take so long?\n",
    "A key difference was that, over the previous two decades, the amount of data and the computing power available had increased significantly. As such AlexNet was much larger: it was trained on much more data, and on much faster GPUs compared to the CPUs available in 1995.\n",
    "\n",
    "### Missing Ingredient: Data\n",
    "\n",
    "Deep models with many layers require large amounts of data\n",
    "in order to enter the regime\n",
    "where they significantly outperform traditional methods\n",
    "based on convex optimizations (e.g., linear and kernel methods).\n",
    "However, given the limited storage capacity of computers,\n",
    "the relative expense of (imaging) sensors,\n",
    "and the comparatively tighter research budgets in the 1990s,\n",
    "most research relied on tiny datasets.\n",
    "Numerous papers relied on the UCI collection of datasets,\n",
    "many of which contained only hundreds or (a few) thousands of images\n",
    "captured in low resolution and often with an artificially clean background.\n",
    "\n",
    "In 2009, the ImageNet dataset was released :cite:`Deng.Dong.Socher.ea.2009`,\n",
    "challenging researchers to learn models from 1 million examples,\n",
    "1000 each from 1000 distinct categories of objects. The categories themselves\n",
    "were based on the most popular noun nodes in WordNet :cite:`Miller.1995`.\n",
    "The ImageNet team used Google Image Search to prefilter large candidate sets\n",
    "for each category and employed\n",
    "the Amazon Mechanical Turk crowdsourcing pipeline\n",
    "to confirm for each image whether it belonged to the associated category.\n",
    "This scale was unprecedented, exceeding others by over an order of magnitude\n",
    "(e.g., CIFAR-100 has 60,000 images). Another aspect was that the images were at\n",
    "relatively high resolution of $224 \\times 224$ pixels, unlike the 80 million-sized\n",
    "TinyImages dataset :cite:`Torralba.Fergus.Freeman.2008`, consisting of $32 \\times 32$ pixel thumbnails.\n",
    "This allowed for the formation of higher-level features.\n",
    "The associated competition, dubbed the ImageNet Large Scale Visual Recognition\n",
    "Challenge :cite:`russakovsky2015imagenet`,\n",
    "pushed computer vision and machine learning research forward,\n",
    "challenging researchers to identify which models performed best\n",
    "at a greater scale than academics had previously considered. The largest vision datasets, such as LAION-5B\n",
    ":cite:`schuhmann2022laion` contain billions of images with additional metadata.\n",
    "\n",
    "### Missing Ingredient: Hardware\n",
    "\n",
    "Deep learning models are voracious consumers of compute cycles.\n",
    "Training can take hundreds of epochs, and each iteration\n",
    "requires passing data through many layers of computationally expensive\n",
    "linear algebra operations.\n",
    "This is one of the main reasons why in the 1990s and early 2000s,\n",
    "simple algorithms based on the more-efficiently optimized\n",
    "convex objectives were preferred.\n",
    "\n",
    "*Graphical processing units* (GPUs) proved to be a game changer\n",
    "in making deep learning feasible.\n",
    "These chips had earlier been developed for accelerating\n",
    "graphics processing to benefit computer games.\n",
    "In particular, they were optimized for high throughput $4 \\times 4$\n",
    "matrix--vector products, which are needed for many computer graphics tasks.\n",
    "Fortunately, the math is strikingly similar\n",
    "to that required for calculating convolutional layers.\n",
    "Around that time, NVIDIA and ATI had begun optimizing GPUs\n",
    "for general computing operations :cite:`Fernando.2004`,\n",
    "going as far as to market them as *general-purpose GPUs* (GPGPUs).\n",
    "\n",
    "To provide some intuition, consider the cores of a modern microprocessor\n",
    "(CPU).\n",
    "Each of the cores is fairly powerful running at a high clock frequency\n",
    "and sporting large caches (up to several megabytes of L3).\n",
    "Each core is well-suited to executing a wide range of instructions,\n",
    "with branch predictors, a deep pipeline, specialized execution units,\n",
    "speculative execution,\n",
    "and many other bells and whistles\n",
    "that enable it to run a large variety of programs with sophisticated control flow.\n",
    "This apparent strength, however, is also its Achilles heel:\n",
    "general-purpose cores are very expensive to build. They excel at general-purpose\n",
    "code with lots of control flow.\n",
    "This requires lots of chip area, not just for the\n",
    "actual ALU (arithmetic logical unit) where computation happens, but also for\n",
    "all the aforementioned bells and whistles, plus\n",
    "memory interfaces, caching logic between cores,\n",
    "high-speed interconnects, and so on. CPUs are\n",
    "comparatively bad at any single task when compared with dedicated hardware.\n",
    "Modern laptops have 4--8 cores,\n",
    "and even high-end servers rarely exceed 64 cores per socket,\n",
    "simply because it is not cost-effective.\n",
    "\n",
    "By comparison, GPUs can consist of thousands of small processing elements (NIVIDA's latest Ampere chips have up to 6912 CUDA cores), often grouped into larger groups (NVIDIA calls them warps).\n",
    "The details differ somewhat between NVIDIA, AMD, ARM and other chip vendors. While each core is relatively weak,\n",
    "running at about 1GHz clock frequency,\n",
    "it is the total number of such cores that makes GPUs orders of magnitude faster than CPUs.\n",
    "For instance, NVIDIA's recent Ampere A100 GPU offers over 300 TFLOPs per chip for specialized 16-bit precision (BFLOAT16) matrix-matrix multiplications, and up to 20 TFLOPs for more general-purpose floating point operations (FP32).\n",
    "At the same time, floating point performance of CPUs rarely exceeds 1 TFLOPs. For instance, Amazon's Graviton 3  reaches 2 TFLOPs peak performance for 16-bit precision operations, a number similar to the GPU performance of Apple's M1 processor.\n",
    "\n",
    "There are many reasons why GPUs are much faster than CPUs in terms of FLOPs.\n",
    "First, power consumption tends to grow *quadratically* with clock frequency.\n",
    "Hence, for the power budget of a CPU core that runs four times faster (a typical number),\n",
    "you can use 16 GPU cores at $\\frac{1}{4}$ the speed,\n",
    "which yields $16 \\times \\frac{1}{4} = 4$ times the performance.\n",
    "Second, GPU cores are much simpler\n",
    "(in fact, for a long time they were not even *able*\n",
    "to execute general-purpose code),\n",
    "which makes them more energy efficient. For instance, (i) they tend not to support speculative evaluation, (ii) it typically is not possible to program each processing element individually, and (iii) the caches per core tend to be much smaller.\n",
    "Last, many operations in deep learning require high memory bandwidth.\n",
    "Again, GPUs shine here with buses that are at least 10 times as wide as many CPUs.\n",
    "\n",
    "Back to 2012. A major breakthrough came\n",
    "when Alex Krizhevsky and Ilya Sutskever\n",
    "implemented a deep CNN\n",
    "that could run on GPUs.\n",
    "They realized that the computational bottlenecks in CNNs,\n",
    "convolutions and matrix multiplications,\n",
    "are all operations that could be parallelized in hardware.\n",
    "Using two NVIDIA GTX 580s with 3GB of memory, either of which was capable of 1.5 TFLOPs (still a challenge for most CPUs a decade later),\n",
    "they implemented fast convolutions.\n",
    "The [cuda-convnet](https://code.google.com/archive/p/cuda-convnet/) code\n",
    "was good enough that for several years\n",
    "it was the industry standard and powered\n",
    "the first couple of years of the deep learning boom.\n",
    "\n",
    "## AlexNet\n",
    "\n",
    "AlexNet, which employed an 8-layer CNN,\n",
    "won the ImageNet Large Scale Visual Recognition Challenge 2012\n",
    "by a large margin :cite:`Russakovsky.Deng.Huang.ea.2013`.\n",
    "This network showed, for the first time,\n",
    "that the features obtained by learning can transcend manually-designed features, breaking the previous paradigm in computer vision.\n",
    "\n",
    "The architectures of AlexNet and LeNet are strikingly similar,\n",
    "as :numref:`fig_alexnet` illustrates.\n",
    "Note that we provide a slightly streamlined version of AlexNet\n",
    "removing some of the design quirks that were needed in 2012\n",
    "to make the model fit on two small GPUs.\n",
    "\n",
    "![From LeNet (left) to AlexNet (right).](../img/alexnet.svg)\n",
    ":label:`fig_alexnet`\n",
    "\n",
    "There are also significant differences between AlexNet and LeNet.\n",
    "First, AlexNet is much deeper than the comparatively small LeNet-5.\n",
    "AlexNet consists of eight layers: five convolutional layers,\n",
    "two fully connected hidden layers, and one fully connected output layer.\n",
    "Second, AlexNet used the ReLU instead of the sigmoid\n",
    "as its activation function. Let's delve into the details below.\n",
    "\n",
    "### Architecture\n",
    "\n",
    "In AlexNet's first layer, the convolution window shape is $11\\times11$.\n",
    "Since the images in ImageNet are eight times taller and wider\n",
    "than the MNIST images,\n",
    "objects in ImageNet data tend to occupy more pixels with more visual detail.\n",
    "Consequently, a larger convolution window is needed to capture the object.\n",
    "The convolution window shape in the second layer\n",
    "is reduced to $5\\times5$, followed by $3\\times3$.\n",
    "In addition, after the first, second, and fifth convolutional layers,\n",
    "the network adds max-pooling layers\n",
    "with a window shape of $3\\times3$ and a stride of 2.\n",
    "Moreover, AlexNet has ten times more convolution channels than LeNet.\n",
    "\n",
    "After the final convolutional layer, there are two huge fully connected layers\n",
    "with 4096 outputs.\n",
    "These layers require nearly 1GB model parameters.\n",
    "Because of the limited memory in early GPUs,\n",
    "the original AlexNet used a dual data stream design,\n",
    "so that each of their two GPUs could be responsible\n",
    "for storing and computing only its half of the model.\n",
    "Fortunately, GPU memory is comparatively abundant now,\n",
    "so we rarely need to break up models across GPUs these days\n",
    "(our version of the AlexNet model deviates\n",
    "from the original paper in this aspect).\n",
    "\n",
    "### Activation Functions\n",
    "\n",
    "Furthermore, AlexNet changed the sigmoid activation function to a simpler ReLU activation function. On the one hand, the computation of the ReLU activation function is simpler. For example, it does not have the exponentiation operation found in the sigmoid activation function.\n",
    " On the other hand, the ReLU activation function makes model training easier when using different parameter initialization methods. This is because, when the output of the sigmoid activation function is very close to 0 or 1, the gradient of these regions is almost 0, so that backpropagation cannot continue to update some of the model parameters. By contrast, the gradient of the ReLU activation function in the positive interval is always 1 (:numref:`subsec_activation-functions`). Therefore, if the model parameters are not properly initialized, the sigmoid function may obtain a gradient of almost 0 in the positive interval, meaning that the model cannot be effectively trained.\n",
    "\n",
    "### Capacity Control and Preprocessing\n",
    "\n",
    "AlexNet controls the model complexity of the fully connected layer\n",
    "by dropout (:numref:`sec_dropout`),\n",
    "while LeNet only uses weight decay.\n",
    "To augment the data even further, the training loop of AlexNet\n",
    "added a great deal of image augmentation,\n",
    "such as flipping, clipping, and color changes.\n",
    "This makes the model more robust and the larger sample size effectively reduces overfitting.\n",
    "See :citet:`Buslaev.Iglovikov.Khvedchenya.ea.2020` for an in-depth review of such preprocessing steps.\n"
   ]
  },
  {
   "cell_type": "code",
   "execution_count": 3,
   "id": "47fae1e0",
   "metadata": {
    "attributes": {
     "classes": [],
     "id": "",
     "n": "5"
    },
    "execution": {
     "iopub.execute_input": "2023-08-18T07:47:09.600235Z",
     "iopub.status.busy": "2023-08-18T07:47:09.599409Z",
     "iopub.status.idle": "2023-08-18T07:47:09.610301Z",
     "shell.execute_reply": "2023-08-18T07:47:09.609285Z"
    },
    "origin_pos": 7,
    "tab": [
     "pytorch"
    ]
   },
   "outputs": [],
   "source": [
    "class AlexNet(d2l.Classifier):\n",
    "    def __init__(self, lr=0.1, num_classes=10):\n",
    "        super().__init__()\n",
    "        self.save_hyperparameters()\n",
    "        self.net = nn.Sequential(\n",
    "            nn.LazyConv2d(96, kernel_size=11, stride=4, padding=1),\n",
    "            nn.ReLU(), nn.MaxPool2d(kernel_size=3, stride=2),\n",
    "            nn.LazyConv2d(256, kernel_size=5, padding=2), nn.ReLU(),\n",
    "            nn.MaxPool2d(kernel_size=3, stride=2),\n",
    "            nn.LazyConv2d(384, kernel_size=3, padding=1), nn.ReLU(),\n",
    "            nn.LazyConv2d(384, kernel_size=3, padding=1), nn.ReLU(),\n",
    "            nn.LazyConv2d(256, kernel_size=3, padding=1), nn.ReLU(),\n",
    "            nn.MaxPool2d(kernel_size=3, stride=2), nn.Flatten(),\n",
    "            nn.LazyLinear(4096), nn.ReLU(), nn.Dropout(p=0.5),\n",
    "            nn.LazyLinear(4096), nn.ReLU(),nn.Dropout(p=0.5),\n",
    "            nn.LazyLinear(num_classes))\n",
    "        self.net.apply(d2l.init_cnn)"
   ]
  },
  {
   "cell_type": "markdown",
   "id": "5245567f",
   "metadata": {
    "origin_pos": 9
   },
   "source": [
    "We [**construct a single-channel data example**] with both height and width of 224 (**to observe the output shape of each layer**). It matches the AlexNet architecture in :numref:`fig_alexnet`.\n"
   ]
  },
  {
   "cell_type": "code",
   "execution_count": 4,
   "id": "a1a86ab0",
   "metadata": {
    "attributes": {
     "classes": [],
     "id": "",
     "n": "6"
    },
    "execution": {
     "iopub.execute_input": "2023-08-18T07:47:09.614268Z",
     "iopub.status.busy": "2023-08-18T07:47:09.613565Z",
     "iopub.status.idle": "2023-08-18T07:47:10.136700Z",
     "shell.execute_reply": "2023-08-18T07:47:10.135474Z"
    },
    "origin_pos": 10,
    "tab": [
     "pytorch"
    ]
   },
   "outputs": [
    {
     "name": "stderr",
     "output_type": "stream",
     "text": [
      "f:\\python3.10\\lib\\site-packages\\torch\\nn\\modules\\lazy.py:180: UserWarning: Lazy modules are a new feature under heavy development so changes to the API or functionality can happen at any moment.\n",
      "  warnings.warn('Lazy modules are a new feature under heavy development '\n"
     ]
    },
    {
     "name": "stdout",
     "output_type": "stream",
     "text": [
      "Conv2d output shape:\t torch.Size([1, 96, 54, 54])\n",
      "ReLU output shape:\t torch.Size([1, 96, 54, 54])\n",
      "MaxPool2d output shape:\t torch.Size([1, 96, 26, 26])\n",
      "Conv2d output shape:\t torch.Size([1, 256, 26, 26])\n",
      "ReLU output shape:\t torch.Size([1, 256, 26, 26])\n",
      "MaxPool2d output shape:\t torch.Size([1, 256, 12, 12])\n",
      "Conv2d output shape:\t torch.Size([1, 384, 12, 12])\n",
      "ReLU output shape:\t torch.Size([1, 384, 12, 12])\n",
      "Conv2d output shape:\t torch.Size([1, 384, 12, 12])\n",
      "ReLU output shape:\t torch.Size([1, 384, 12, 12])\n",
      "Conv2d output shape:\t torch.Size([1, 256, 12, 12])\n",
      "ReLU output shape:\t torch.Size([1, 256, 12, 12])\n",
      "MaxPool2d output shape:\t torch.Size([1, 256, 5, 5])\n",
      "Flatten output shape:\t torch.Size([1, 6400])\n",
      "Linear output shape:\t torch.Size([1, 4096])\n",
      "ReLU output shape:\t torch.Size([1, 4096])\n",
      "Dropout output shape:\t torch.Size([1, 4096])\n",
      "Linear output shape:\t torch.Size([1, 4096])\n",
      "ReLU output shape:\t torch.Size([1, 4096])\n",
      "Dropout output shape:\t torch.Size([1, 4096])\n",
      "Linear output shape:\t torch.Size([1, 10])\n"
     ]
    }
   ],
   "source": [
    "AlexNet().layer_summary((1, 1, 224, 224))"
   ]
  },
  {
   "cell_type": "markdown",
   "id": "6f2cd516",
   "metadata": {
    "origin_pos": 13
   },
   "source": [
    "## Training\n",
    "\n",
    "Although AlexNet was trained on ImageNet in :citet:`Krizhevsky.Sutskever.Hinton.2012`,\n",
    "we use Fashion-MNIST here\n",
    "since training an ImageNet model to convergence could take hours or days\n",
    "even on a modern GPU.\n",
    "One of the problems with applying AlexNet directly on [**Fashion-MNIST**]\n",
    "is that its (**images have lower resolution**) ($28 \\times 28$ pixels)\n",
    "(**than ImageNet images.**)\n",
    "To make things work, (**we upsample them to $224 \\times 224$**).\n",
    "This is generally not a smart practice, as it simply increases the computational\n",
    "complexity without adding information. Nonetheless, we do it here to be faithful to the AlexNet architecture.\n",
    "We perform this resizing with the `resize` argument in the `d2l.FashionMNIST` constructor.\n",
    "\n",
    "Now, we can [**start training AlexNet.**]\n",
    "Compared to LeNet in :numref:`sec_lenet`,\n",
    "the main change here is the use of a smaller learning rate\n",
    "and much slower training due to the deeper and wider network,\n",
    "the higher image resolution, and the more costly convolutions.\n"
   ]
  },
  {
   "cell_type": "code",
   "execution_count": 9,
   "id": "4b2fb234",
   "metadata": {},
   "outputs": [
    {
     "data": {
      "text/plain": [
       "(device(type='cpu'),\n",
       " device(type='cuda', index=0),\n",
       " device(type='cuda', index=1))"
      ]
     },
     "execution_count": 9,
     "metadata": {},
     "output_type": "execute_result"
    }
   ],
   "source": [
    "def cpu():  #@save\n",
    "    \"\"\"Get the CPU device.\"\"\"\n",
    "    return torch.device('cpu')\n",
    "\n",
    "def gpu(i=0):  #@save\n",
    "    \"\"\"Get a GPU device.\"\"\"\n",
    "    return torch.device(f'cuda:{i}')\n",
    "\n",
    "cpu(), gpu(), gpu(1)"
   ]
  },
  {
   "cell_type": "code",
   "execution_count": 15,
   "id": "1706b74e",
   "metadata": {},
   "outputs": [
    {
     "data": {
      "text/plain": [
       "0"
      ]
     },
     "execution_count": 15,
     "metadata": {},
     "output_type": "execute_result"
    }
   ],
   "source": [
    "import os\n",
    "os.environ['CUDA_VISIBLE_DEVICES'] = '0'\n",
    "def num_gpus():  #@save\n",
    "    \"\"\"Get the number of available GPUs.\"\"\"\n",
    "    return torch.cuda.device_count()\n",
    "\n",
    "num_gpus()"
   ]
  },
  {
   "cell_type": "code",
   "execution_count": 8,
   "id": "e4f3da3b",
   "metadata": {
    "attributes": {
     "classes": [],
     "id": "",
     "n": "8"
    },
    "execution": {
     "iopub.execute_input": "2023-08-18T07:47:10.140089Z",
     "iopub.status.busy": "2023-08-18T07:47:10.139774Z",
     "iopub.status.idle": "2023-08-18T07:50:10.204128Z",
     "shell.execute_reply": "2023-08-18T07:50:10.203160Z"
    },
    "origin_pos": 14,
    "tab": [
     "pytorch"
    ]
   },
   "outputs": [
    {
     "ename": "KeyboardInterrupt",
     "evalue": "",
     "output_type": "error",
     "traceback": [
      "\u001b[1;31m---------------------------------------------------------------------------\u001b[0m",
      "\u001b[1;31mKeyboardInterrupt\u001b[0m                         Traceback (most recent call last)",
      "Cell \u001b[1;32mIn[8], line 4\u001b[0m\n\u001b[0;32m      2\u001b[0m data \u001b[38;5;241m=\u001b[39m d2l\u001b[38;5;241m.\u001b[39mFashionMNIST(batch_size\u001b[38;5;241m=\u001b[39m\u001b[38;5;241m128\u001b[39m, resize\u001b[38;5;241m=\u001b[39m(\u001b[38;5;241m224\u001b[39m, \u001b[38;5;241m224\u001b[39m))\n\u001b[0;32m      3\u001b[0m trainer \u001b[38;5;241m=\u001b[39m d2l\u001b[38;5;241m.\u001b[39mTrainer(max_epochs\u001b[38;5;241m=\u001b[39m\u001b[38;5;241m10\u001b[39m, num_gpus\u001b[38;5;241m=\u001b[39m\u001b[38;5;241m1\u001b[39m)\n\u001b[1;32m----> 4\u001b[0m \u001b[43mtrainer\u001b[49m\u001b[38;5;241;43m.\u001b[39;49m\u001b[43mfit\u001b[49m\u001b[43m(\u001b[49m\u001b[43mmodel\u001b[49m\u001b[43m,\u001b[49m\u001b[43m \u001b[49m\u001b[43mdata\u001b[49m\u001b[43m)\u001b[49m\n",
      "File \u001b[1;32mf:\\python3.10\\lib\\site-packages\\d2l\\torch.py:285\u001b[0m, in \u001b[0;36mTrainer.fit\u001b[1;34m(self, model, data)\u001b[0m\n\u001b[0;32m    283\u001b[0m \u001b[38;5;28mself\u001b[39m\u001b[38;5;241m.\u001b[39mval_batch_idx \u001b[38;5;241m=\u001b[39m \u001b[38;5;241m0\u001b[39m\n\u001b[0;32m    284\u001b[0m \u001b[38;5;28;01mfor\u001b[39;00m \u001b[38;5;28mself\u001b[39m\u001b[38;5;241m.\u001b[39mepoch \u001b[38;5;129;01min\u001b[39;00m \u001b[38;5;28mrange\u001b[39m(\u001b[38;5;28mself\u001b[39m\u001b[38;5;241m.\u001b[39mmax_epochs):\n\u001b[1;32m--> 285\u001b[0m     \u001b[38;5;28;43mself\u001b[39;49m\u001b[38;5;241;43m.\u001b[39;49m\u001b[43mfit_epoch\u001b[49m\u001b[43m(\u001b[49m\u001b[43m)\u001b[49m\n",
      "File \u001b[1;32mf:\\python3.10\\lib\\site-packages\\d2l\\torch.py:298\u001b[0m, in \u001b[0;36mTrainer.fit_epoch\u001b[1;34m(self)\u001b[0m\n\u001b[0;32m    296\u001b[0m \u001b[38;5;28mself\u001b[39m\u001b[38;5;241m.\u001b[39mmodel\u001b[38;5;241m.\u001b[39mtrain()\n\u001b[0;32m    297\u001b[0m \u001b[38;5;28;01mfor\u001b[39;00m batch \u001b[38;5;129;01min\u001b[39;00m \u001b[38;5;28mself\u001b[39m\u001b[38;5;241m.\u001b[39mtrain_dataloader:\n\u001b[1;32m--> 298\u001b[0m     loss \u001b[38;5;241m=\u001b[39m \u001b[38;5;28;43mself\u001b[39;49m\u001b[38;5;241;43m.\u001b[39;49m\u001b[43mmodel\u001b[49m\u001b[38;5;241;43m.\u001b[39;49m\u001b[43mtraining_step\u001b[49m\u001b[43m(\u001b[49m\u001b[38;5;28;43mself\u001b[39;49m\u001b[38;5;241;43m.\u001b[39;49m\u001b[43mprepare_batch\u001b[49m\u001b[43m(\u001b[49m\u001b[43mbatch\u001b[49m\u001b[43m)\u001b[49m\u001b[43m)\u001b[49m\n\u001b[0;32m    299\u001b[0m     \u001b[38;5;28mself\u001b[39m\u001b[38;5;241m.\u001b[39moptim\u001b[38;5;241m.\u001b[39mzero_grad()\n\u001b[0;32m    300\u001b[0m     \u001b[38;5;28;01mwith\u001b[39;00m torch\u001b[38;5;241m.\u001b[39mno_grad():\n",
      "File \u001b[1;32mf:\\python3.10\\lib\\site-packages\\d2l\\torch.py:213\u001b[0m, in \u001b[0;36mModule.training_step\u001b[1;34m(self, batch)\u001b[0m\n\u001b[0;32m    212\u001b[0m \u001b[38;5;28;01mdef\u001b[39;00m \u001b[38;5;21mtraining_step\u001b[39m(\u001b[38;5;28mself\u001b[39m, batch):\n\u001b[1;32m--> 213\u001b[0m     l \u001b[38;5;241m=\u001b[39m \u001b[38;5;28mself\u001b[39m\u001b[38;5;241m.\u001b[39mloss(\u001b[38;5;28;43mself\u001b[39;49m\u001b[43m(\u001b[49m\u001b[38;5;241;43m*\u001b[39;49m\u001b[43mbatch\u001b[49m\u001b[43m[\u001b[49m\u001b[43m:\u001b[49m\u001b[38;5;241;43m-\u001b[39;49m\u001b[38;5;241;43m1\u001b[39;49m\u001b[43m]\u001b[49m\u001b[43m)\u001b[49m, batch[\u001b[38;5;241m-\u001b[39m\u001b[38;5;241m1\u001b[39m])\n\u001b[0;32m    214\u001b[0m     \u001b[38;5;28mself\u001b[39m\u001b[38;5;241m.\u001b[39mplot(\u001b[38;5;124m'\u001b[39m\u001b[38;5;124mloss\u001b[39m\u001b[38;5;124m'\u001b[39m, l, train\u001b[38;5;241m=\u001b[39m\u001b[38;5;28;01mTrue\u001b[39;00m)\n\u001b[0;32m    215\u001b[0m     \u001b[38;5;28;01mreturn\u001b[39;00m l\n",
      "File \u001b[1;32mf:\\python3.10\\lib\\site-packages\\torch\\nn\\modules\\module.py:1501\u001b[0m, in \u001b[0;36mModule._call_impl\u001b[1;34m(self, *args, **kwargs)\u001b[0m\n\u001b[0;32m   1496\u001b[0m \u001b[38;5;66;03m# If we don't have any hooks, we want to skip the rest of the logic in\u001b[39;00m\n\u001b[0;32m   1497\u001b[0m \u001b[38;5;66;03m# this function, and just call forward.\u001b[39;00m\n\u001b[0;32m   1498\u001b[0m \u001b[38;5;28;01mif\u001b[39;00m \u001b[38;5;129;01mnot\u001b[39;00m (\u001b[38;5;28mself\u001b[39m\u001b[38;5;241m.\u001b[39m_backward_hooks \u001b[38;5;129;01mor\u001b[39;00m \u001b[38;5;28mself\u001b[39m\u001b[38;5;241m.\u001b[39m_backward_pre_hooks \u001b[38;5;129;01mor\u001b[39;00m \u001b[38;5;28mself\u001b[39m\u001b[38;5;241m.\u001b[39m_forward_hooks \u001b[38;5;129;01mor\u001b[39;00m \u001b[38;5;28mself\u001b[39m\u001b[38;5;241m.\u001b[39m_forward_pre_hooks\n\u001b[0;32m   1499\u001b[0m         \u001b[38;5;129;01mor\u001b[39;00m _global_backward_pre_hooks \u001b[38;5;129;01mor\u001b[39;00m _global_backward_hooks\n\u001b[0;32m   1500\u001b[0m         \u001b[38;5;129;01mor\u001b[39;00m _global_forward_hooks \u001b[38;5;129;01mor\u001b[39;00m _global_forward_pre_hooks):\n\u001b[1;32m-> 1501\u001b[0m     \u001b[38;5;28;01mreturn\u001b[39;00m forward_call(\u001b[38;5;241m*\u001b[39margs, \u001b[38;5;241m*\u001b[39m\u001b[38;5;241m*\u001b[39mkwargs)\n\u001b[0;32m   1502\u001b[0m \u001b[38;5;66;03m# Do not call functions when jit is used\u001b[39;00m\n\u001b[0;32m   1503\u001b[0m full_backward_hooks, non_full_backward_hooks \u001b[38;5;241m=\u001b[39m [], []\n",
      "File \u001b[1;32mf:\\python3.10\\lib\\site-packages\\d2l\\torch.py:193\u001b[0m, in \u001b[0;36mModule.forward\u001b[1;34m(self, X)\u001b[0m\n\u001b[0;32m    191\u001b[0m \u001b[38;5;28;01mdef\u001b[39;00m \u001b[38;5;21mforward\u001b[39m(\u001b[38;5;28mself\u001b[39m, X):\n\u001b[0;32m    192\u001b[0m     \u001b[38;5;28;01massert\u001b[39;00m \u001b[38;5;28mhasattr\u001b[39m(\u001b[38;5;28mself\u001b[39m, \u001b[38;5;124m'\u001b[39m\u001b[38;5;124mnet\u001b[39m\u001b[38;5;124m'\u001b[39m), \u001b[38;5;124m'\u001b[39m\u001b[38;5;124mNeural network is defined\u001b[39m\u001b[38;5;124m'\u001b[39m\n\u001b[1;32m--> 193\u001b[0m     \u001b[38;5;28;01mreturn\u001b[39;00m \u001b[38;5;28;43mself\u001b[39;49m\u001b[38;5;241;43m.\u001b[39;49m\u001b[43mnet\u001b[49m\u001b[43m(\u001b[49m\u001b[43mX\u001b[49m\u001b[43m)\u001b[49m\n",
      "File \u001b[1;32mf:\\python3.10\\lib\\site-packages\\torch\\nn\\modules\\module.py:1501\u001b[0m, in \u001b[0;36mModule._call_impl\u001b[1;34m(self, *args, **kwargs)\u001b[0m\n\u001b[0;32m   1496\u001b[0m \u001b[38;5;66;03m# If we don't have any hooks, we want to skip the rest of the logic in\u001b[39;00m\n\u001b[0;32m   1497\u001b[0m \u001b[38;5;66;03m# this function, and just call forward.\u001b[39;00m\n\u001b[0;32m   1498\u001b[0m \u001b[38;5;28;01mif\u001b[39;00m \u001b[38;5;129;01mnot\u001b[39;00m (\u001b[38;5;28mself\u001b[39m\u001b[38;5;241m.\u001b[39m_backward_hooks \u001b[38;5;129;01mor\u001b[39;00m \u001b[38;5;28mself\u001b[39m\u001b[38;5;241m.\u001b[39m_backward_pre_hooks \u001b[38;5;129;01mor\u001b[39;00m \u001b[38;5;28mself\u001b[39m\u001b[38;5;241m.\u001b[39m_forward_hooks \u001b[38;5;129;01mor\u001b[39;00m \u001b[38;5;28mself\u001b[39m\u001b[38;5;241m.\u001b[39m_forward_pre_hooks\n\u001b[0;32m   1499\u001b[0m         \u001b[38;5;129;01mor\u001b[39;00m _global_backward_pre_hooks \u001b[38;5;129;01mor\u001b[39;00m _global_backward_hooks\n\u001b[0;32m   1500\u001b[0m         \u001b[38;5;129;01mor\u001b[39;00m _global_forward_hooks \u001b[38;5;129;01mor\u001b[39;00m _global_forward_pre_hooks):\n\u001b[1;32m-> 1501\u001b[0m     \u001b[38;5;28;01mreturn\u001b[39;00m forward_call(\u001b[38;5;241m*\u001b[39margs, \u001b[38;5;241m*\u001b[39m\u001b[38;5;241m*\u001b[39mkwargs)\n\u001b[0;32m   1502\u001b[0m \u001b[38;5;66;03m# Do not call functions when jit is used\u001b[39;00m\n\u001b[0;32m   1503\u001b[0m full_backward_hooks, non_full_backward_hooks \u001b[38;5;241m=\u001b[39m [], []\n",
      "File \u001b[1;32mf:\\python3.10\\lib\\site-packages\\torch\\nn\\modules\\container.py:217\u001b[0m, in \u001b[0;36mSequential.forward\u001b[1;34m(self, input)\u001b[0m\n\u001b[0;32m    215\u001b[0m \u001b[38;5;28;01mdef\u001b[39;00m \u001b[38;5;21mforward\u001b[39m(\u001b[38;5;28mself\u001b[39m, \u001b[38;5;28minput\u001b[39m):\n\u001b[0;32m    216\u001b[0m     \u001b[38;5;28;01mfor\u001b[39;00m module \u001b[38;5;129;01min\u001b[39;00m \u001b[38;5;28mself\u001b[39m:\n\u001b[1;32m--> 217\u001b[0m         \u001b[38;5;28minput\u001b[39m \u001b[38;5;241m=\u001b[39m \u001b[43mmodule\u001b[49m\u001b[43m(\u001b[49m\u001b[38;5;28;43minput\u001b[39;49m\u001b[43m)\u001b[49m\n\u001b[0;32m    218\u001b[0m     \u001b[38;5;28;01mreturn\u001b[39;00m \u001b[38;5;28minput\u001b[39m\n",
      "File \u001b[1;32mf:\\python3.10\\lib\\site-packages\\torch\\nn\\modules\\module.py:1538\u001b[0m, in \u001b[0;36mModule._call_impl\u001b[1;34m(self, *args, **kwargs)\u001b[0m\n\u001b[0;32m   1535\u001b[0m     bw_hook \u001b[38;5;241m=\u001b[39m hooks\u001b[38;5;241m.\u001b[39mBackwardHook(\u001b[38;5;28mself\u001b[39m, full_backward_hooks, backward_pre_hooks)\n\u001b[0;32m   1536\u001b[0m     args \u001b[38;5;241m=\u001b[39m bw_hook\u001b[38;5;241m.\u001b[39msetup_input_hook(args)\n\u001b[1;32m-> 1538\u001b[0m result \u001b[38;5;241m=\u001b[39m forward_call(\u001b[38;5;241m*\u001b[39margs, \u001b[38;5;241m*\u001b[39m\u001b[38;5;241m*\u001b[39mkwargs)\n\u001b[0;32m   1539\u001b[0m \u001b[38;5;28;01mif\u001b[39;00m _global_forward_hooks \u001b[38;5;129;01mor\u001b[39;00m \u001b[38;5;28mself\u001b[39m\u001b[38;5;241m.\u001b[39m_forward_hooks:\n\u001b[0;32m   1540\u001b[0m     \u001b[38;5;28;01mfor\u001b[39;00m hook_id, hook \u001b[38;5;129;01min\u001b[39;00m (\n\u001b[0;32m   1541\u001b[0m         \u001b[38;5;241m*\u001b[39m_global_forward_hooks\u001b[38;5;241m.\u001b[39mitems(),\n\u001b[0;32m   1542\u001b[0m         \u001b[38;5;241m*\u001b[39m\u001b[38;5;28mself\u001b[39m\u001b[38;5;241m.\u001b[39m_forward_hooks\u001b[38;5;241m.\u001b[39mitems(),\n\u001b[0;32m   1543\u001b[0m     ):\n",
      "File \u001b[1;32mf:\\python3.10\\lib\\site-packages\\torch\\nn\\modules\\conv.py:463\u001b[0m, in \u001b[0;36mConv2d.forward\u001b[1;34m(self, input)\u001b[0m\n\u001b[0;32m    462\u001b[0m \u001b[38;5;28;01mdef\u001b[39;00m \u001b[38;5;21mforward\u001b[39m(\u001b[38;5;28mself\u001b[39m, \u001b[38;5;28minput\u001b[39m: Tensor) \u001b[38;5;241m-\u001b[39m\u001b[38;5;241m>\u001b[39m Tensor:\n\u001b[1;32m--> 463\u001b[0m     \u001b[38;5;28;01mreturn\u001b[39;00m \u001b[38;5;28;43mself\u001b[39;49m\u001b[38;5;241;43m.\u001b[39;49m\u001b[43m_conv_forward\u001b[49m\u001b[43m(\u001b[49m\u001b[38;5;28;43minput\u001b[39;49m\u001b[43m,\u001b[49m\u001b[43m \u001b[49m\u001b[38;5;28;43mself\u001b[39;49m\u001b[38;5;241;43m.\u001b[39;49m\u001b[43mweight\u001b[49m\u001b[43m,\u001b[49m\u001b[43m \u001b[49m\u001b[38;5;28;43mself\u001b[39;49m\u001b[38;5;241;43m.\u001b[39;49m\u001b[43mbias\u001b[49m\u001b[43m)\u001b[49m\n",
      "File \u001b[1;32mf:\\python3.10\\lib\\site-packages\\torch\\nn\\modules\\conv.py:459\u001b[0m, in \u001b[0;36mConv2d._conv_forward\u001b[1;34m(self, input, weight, bias)\u001b[0m\n\u001b[0;32m    455\u001b[0m \u001b[38;5;28;01mif\u001b[39;00m \u001b[38;5;28mself\u001b[39m\u001b[38;5;241m.\u001b[39mpadding_mode \u001b[38;5;241m!=\u001b[39m \u001b[38;5;124m'\u001b[39m\u001b[38;5;124mzeros\u001b[39m\u001b[38;5;124m'\u001b[39m:\n\u001b[0;32m    456\u001b[0m     \u001b[38;5;28;01mreturn\u001b[39;00m F\u001b[38;5;241m.\u001b[39mconv2d(F\u001b[38;5;241m.\u001b[39mpad(\u001b[38;5;28minput\u001b[39m, \u001b[38;5;28mself\u001b[39m\u001b[38;5;241m.\u001b[39m_reversed_padding_repeated_twice, mode\u001b[38;5;241m=\u001b[39m\u001b[38;5;28mself\u001b[39m\u001b[38;5;241m.\u001b[39mpadding_mode),\n\u001b[0;32m    457\u001b[0m                     weight, bias, \u001b[38;5;28mself\u001b[39m\u001b[38;5;241m.\u001b[39mstride,\n\u001b[0;32m    458\u001b[0m                     _pair(\u001b[38;5;241m0\u001b[39m), \u001b[38;5;28mself\u001b[39m\u001b[38;5;241m.\u001b[39mdilation, \u001b[38;5;28mself\u001b[39m\u001b[38;5;241m.\u001b[39mgroups)\n\u001b[1;32m--> 459\u001b[0m \u001b[38;5;28;01mreturn\u001b[39;00m \u001b[43mF\u001b[49m\u001b[38;5;241;43m.\u001b[39;49m\u001b[43mconv2d\u001b[49m\u001b[43m(\u001b[49m\u001b[38;5;28;43minput\u001b[39;49m\u001b[43m,\u001b[49m\u001b[43m \u001b[49m\u001b[43mweight\u001b[49m\u001b[43m,\u001b[49m\u001b[43m \u001b[49m\u001b[43mbias\u001b[49m\u001b[43m,\u001b[49m\u001b[43m \u001b[49m\u001b[38;5;28;43mself\u001b[39;49m\u001b[38;5;241;43m.\u001b[39;49m\u001b[43mstride\u001b[49m\u001b[43m,\u001b[49m\n\u001b[0;32m    460\u001b[0m \u001b[43m                \u001b[49m\u001b[38;5;28;43mself\u001b[39;49m\u001b[38;5;241;43m.\u001b[39;49m\u001b[43mpadding\u001b[49m\u001b[43m,\u001b[49m\u001b[43m \u001b[49m\u001b[38;5;28;43mself\u001b[39;49m\u001b[38;5;241;43m.\u001b[39;49m\u001b[43mdilation\u001b[49m\u001b[43m,\u001b[49m\u001b[43m \u001b[49m\u001b[38;5;28;43mself\u001b[39;49m\u001b[38;5;241;43m.\u001b[39;49m\u001b[43mgroups\u001b[49m\u001b[43m)\u001b[49m\n",
      "\u001b[1;31mKeyboardInterrupt\u001b[0m: "
     ]
    }
   ],
   "source": [
    "model = AlexNet(lr=0.01)\n",
    "data = d2l.FashionMNIST(batch_size=128, resize=(224, 224))\n",
    "trainer = d2l.Trainer(max_epochs=10, num_gpus=1)\n",
    "trainer.fit(model, data)"
   ]
  },
  {
   "cell_type": "markdown",
   "id": "be0563cc",
   "metadata": {
    "origin_pos": 16
   },
   "source": [
    "## Discussion\n",
    "\n",
    "AlexNet's structure bears a striking resemblance to LeNet, with a number of critical improvements, both for accuracy (dropout) and for ease of training (ReLU). What is equally striking is the amount of progress that has been made in terms of deep learning tooling. What was several months of work in 2012 can now be accomplished in a dozen lines of code using any modern framework.\n",
    "\n",
    "Reviewing the architecture, we see that AlexNet has an Achilles heel when it comes to efficiency: the last two hidden layers require matrices of size $6400 \\times 4096$ and $4096 \\times 4096$, respectively. This corresponds to 164 MB of memory and 81 MFLOPs of computation, both of which are a nontrivial outlay, especially on smaller devices, such as mobile phones. This is one of the reasons why AlexNet has been surpassed by much more effective architectures that we will cover in the following sections. Nonetheless, it is a key step from shallow to deep networks that are used nowadays. Note that even though the number of parameters exceeds by far the amount of training data in our experiments (the last two layers have more than 40 million parameters, trained on a datasets of 60 thousand images), there is hardly any overfitting: training and validation loss are virtually identical throughout training. This is due to the improved regularization, such as dropout, inherent in modern deep network designs.\n",
    "\n",
    "Although it seems that there are only a few more lines in AlexNet's implementation than in LeNet's, it took the academic community many years to embrace this conceptual change and take advantage of its excellent experimental results. This was also due to the lack of efficient computational tools. At the time neither DistBelief :cite:`Dean.Corrado.Monga.ea.2012` nor Caffe :cite:`Jia.Shelhamer.Donahue.ea.2014` existed, and Theano :cite:`Bergstra.Breuleux.Bastien.ea.2010` still lacked many distinguishing features. It was the availability of TensorFlow :cite:`Abadi.Barham.Chen.ea.2016` that dramatically changed the situation.\n",
    "\n",
    "## Exercises\n",
    "\n",
    "1. Following up on the discussion above, analyze the computational properties of AlexNet.\n",
    "    1. Compute the memory footprint for convolutions and fully connected layers, respectively. Which one dominates?\n",
    "    1. Calculate the computational cost for the convolutions and the fully connected layers.\n",
    "    1. How does the memory (read and write bandwidth, latency, size) affect computation? Is there any difference in its effects for training and inference?\n",
    "1. You are a chip designer and need to trade off computation and memory bandwidth. For example, a faster chip requires more power and possibly a larger chip area. More memory bandwidth requires more pins and control logic, thus also more area. How do you optimize?\n",
    "1. Why do engineers no longer report performance benchmarks on AlexNet?\n",
    "1. Try increasing the number of epochs when training AlexNet. Compared with LeNet, how do the results differ? Why?\n",
    "1. AlexNet may be too complex for the Fashion-MNIST dataset, in particular due to the low resolution of the initial images.\n",
    "    1. Try simplifying the model to make the training faster, while ensuring that the accuracy does not drop significantly.\n",
    "    1. Design a better model that works directly on $28 \\times 28$ images.\n",
    "1. Modify the batch size, and observe the changes in throughput (images/s), accuracy, and GPU memory.\n",
    "1. Apply dropout and ReLU to LeNet-5. Does it improve? Can you improve things further by preprocessing to take advantage of the invariances inherent in the images?\n",
    "1. Can you make AlexNet overfit? Which feature do you need to remove or change to break training?\n"
   ]
  },
  {
   "cell_type": "markdown",
   "id": "ba11fdbc",
   "metadata": {
    "origin_pos": 18,
    "tab": [
     "pytorch"
    ]
   },
   "source": [
    "[Discussions](https://discuss.d2l.ai/t/76)\n"
   ]
  }
 ],
 "metadata": {
  "kernelspec": {
   "display_name": "Python 3",
   "language": "python",
   "name": "python3"
  },
  "language_info": {
   "codemirror_mode": {
    "name": "ipython",
    "version": 3
   },
   "file_extension": ".py",
   "mimetype": "text/x-python",
   "name": "python",
   "nbconvert_exporter": "python",
   "pygments_lexer": "ipython3",
   "version": "3.10.11"
  },
  "required_libs": []
 },
 "nbformat": 4,
 "nbformat_minor": 5
}
