{
 "cells": [
  {
   "cell_type": "markdown",
   "id": "c5d2de5d",
   "metadata": {
    "origin_pos": 0
   },
   "source": [
    "# Generative Adversarial Networks\n",
    ":label:`chap_gans`\n",
    "\n",
    ":begin_tab:toc\n",
    " - [gan](gan.ipynb)\n",
    " - [dcgan](dcgan.ipynb)\n",
    ":end_tab:\n"
   ]
  }
 ],
 "metadata": {
  "kernelspec": {
   "display_name": "Python 3",
   "language": "python",
   "name": "python3"
  },
  "language_info": {
   "name": "python",
   "version": "3.10.11"
  },
  "required_libs": []
 },
 "nbformat": 4,
 "nbformat_minor": 5
}
