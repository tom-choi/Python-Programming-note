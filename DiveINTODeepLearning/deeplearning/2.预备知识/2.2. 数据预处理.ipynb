{
 "cells": [
  {
   "cell_type": "markdown",
   "id": "abeac49d",
   "metadata": {
    "origin_pos": 0
   },
   "source": [
    "# 数据预处理\n",
    ":label:`sec_pandas`\n",
    "\n",
    "为了能用深度学习来解决现实世界的问题，我们经常从预处理原始数据开始，\n",
    "而不是从那些准备好的张量格式数据开始。\n",
    "在Python中常用的数据分析工具中，我们通常使用`pandas`软件包。\n",
    "像庞大的Python生态系统中的许多其他扩展包一样，`pandas`可以与张量兼容。\n",
    "本节我们将简要介绍使用`pandas`预处理原始数据，并将原始数据转换为张量格式的步骤。\n",
    "我们将在后面的章节中介绍更多的数据预处理技术。\n",
    "\n",
    "## 读取数据集\n",
    "\n",
    "举一个例子，我们首先(**创建一个人工数据集，并存储在CSV（逗号分隔值）文件**)\n",
    "`../data/house_tiny.csv`中。\n",
    "以其他格式存储的数据也可以通过类似的方式进行处理。\n",
    "下面我们将数据集按行写入CSV文件中。\n"
   ]
  },
  {
   "cell_type": "code",
   "execution_count": 13,
   "id": "3485a3af",
   "metadata": {
    "execution": {
     "iopub.execute_input": "2022-07-31T02:47:43.120836Z",
     "iopub.status.busy": "2022-07-31T02:47:43.120587Z",
     "iopub.status.idle": "2022-07-31T02:47:43.130058Z",
     "shell.execute_reply": "2022-07-31T02:47:43.129398Z"
    },
    "origin_pos": 1,
    "tab": [
     "pytorch"
    ]
   },
   "outputs": [],
   "source": [
    "import os\n",
    "\n",
    "os.makedirs(os.path.join('..', 'data'), exist_ok=True)\n",
    "data_file = os.path.join('..', 'data', 'house_tiny.csv')\n",
    "with open(data_file, 'w') as f:\n",
    "    f.write('NumRooms,Alley,Price\\n')  # 列名\n",
    "    f.write('NA,Pave,127500\\n')  # 每行表示一个数据样本\n",
    "    f.write('2,NA,106000\\n')\n",
    "    f.write('4,NA,178100\\n')\n",
    "    f.write('NA,NA,140000\\n')"
   ]
  },
  {
   "cell_type": "markdown",
   "id": "95605a32",
   "metadata": {
    "origin_pos": 2
   },
   "source": [
    "要[**从创建的CSV文件中加载原始数据集**]，我们导入`pandas`包并调用`read_csv`函数。该数据集有四行三列。其中每行描述了房间数量（“NumRooms”）、巷子类型（“Alley”）和房屋价格（“Price”）。\n"
   ]
  },
  {
   "cell_type": "code",
   "execution_count": 14,
   "id": "4d067bac",
   "metadata": {
    "execution": {
     "iopub.execute_input": "2022-07-31T02:47:43.133316Z",
     "iopub.status.busy": "2022-07-31T02:47:43.132861Z",
     "iopub.status.idle": "2022-07-31T02:47:43.561131Z",
     "shell.execute_reply": "2022-07-31T02:47:43.560442Z"
    },
    "origin_pos": 3,
    "tab": [
     "pytorch"
    ]
   },
   "outputs": [
    {
     "name": "stdout",
     "output_type": "stream",
     "text": [
      "   NumRooms Alley   Price\n",
      "0       NaN  Pave  127500\n",
      "1       2.0   NaN  106000\n",
      "2       4.0   NaN  178100\n",
      "3       NaN   NaN  140000\n"
     ]
    }
   ],
   "source": [
    "# 如果没有安装pandas，只需取消对以下行的注释来安装pandas\n",
    "# !pip install pandas\n",
    "import pandas as pd\n",
    "\n",
    "data = pd.read_csv(data_file)\n",
    "print(data)"
   ]
  },
  {
   "cell_type": "markdown",
   "id": "66b841e4",
   "metadata": {
    "origin_pos": 4
   },
   "source": [
    "## 处理缺失值\n",
    "\n",
    "注意，“NaN”项代表缺失值。\n",
    "[**为了处理缺失的数据，典型的方法包括*插值法*和*删除法*，**]\n",
    "其中插值法用一个替代值弥补缺失值，而删除法则直接忽略缺失值。\n",
    "在(**这里，我们将考虑插值法**)。\n",
    "\n",
    "通过位置索引`iloc`，我们将`data`分成`inputs`和`outputs`，\n",
    "其中前者为`data`的前两列，而后者为`data`的最后一列。\n",
    "对于`inputs`中缺少的数值，我们用同一列的均值替换“NaN”项。\n"
   ]
  },
  {
   "cell_type": "code",
   "execution_count": 15,
   "id": "9feb87e7",
   "metadata": {
    "execution": {
     "iopub.execute_input": "2022-07-31T02:47:43.564342Z",
     "iopub.status.busy": "2022-07-31T02:47:43.563959Z",
     "iopub.status.idle": "2022-07-31T02:47:43.571872Z",
     "shell.execute_reply": "2022-07-31T02:47:43.571249Z"
    },
    "origin_pos": 5,
    "tab": [
     "pytorch"
    ]
   },
   "outputs": [
    {
     "name": "stdout",
     "output_type": "stream",
     "text": [
      "   NumRooms  Alley_Pave  Alley_nan\n",
      "0       NaN        True      False\n",
      "1       2.0       False       True\n",
      "2       4.0       False       True\n",
      "3       NaN       False       True\n"
     ]
    }
   ],
   "source": [
    "inputs, outputs = data.iloc[:, 0:2], data.iloc[:, 2]\n",
    "inputs = pd.get_dummies(inputs, dummy_na=True)\n",
    "print(inputs)"
   ]
  },
  {
   "cell_type": "markdown",
   "id": "ad9920a8",
   "metadata": {
    "origin_pos": 6
   },
   "source": [
    "[**对于`inputs`中的类别值或离散值，我们将“NaN”视为一个类别。**]\n",
    "由于“巷子类型”（“Alley”）列只接受两种类型的类别值“Pave”和“NaN”，\n",
    "`pandas`可以自动将此列转换为两列“Alley_Pave”和“Alley_nan”。\n",
    "巷子类型为“Pave”的行会将“Alley_Pave”的值设置为1，“Alley_nan”的值设置为0。\n",
    "缺少巷子类型的行会将“Alley_Pave”和“Alley_nan”分别设置为0和1。\n"
   ]
  },
  {
   "cell_type": "code",
   "execution_count": 16,
   "id": "e228a5d0",
   "metadata": {
    "execution": {
     "iopub.execute_input": "2022-07-31T02:47:43.574819Z",
     "iopub.status.busy": "2022-07-31T02:47:43.574477Z",
     "iopub.status.idle": "2022-07-31T02:47:43.584160Z",
     "shell.execute_reply": "2022-07-31T02:47:43.583511Z"
    },
    "origin_pos": 7,
    "tab": [
     "pytorch"
    ]
   },
   "outputs": [
    {
     "name": "stdout",
     "output_type": "stream",
     "text": [
      "   NumRooms  Alley_Pave  Alley_nan\n",
      "0       NaN        True      False\n",
      "1       2.0       False       True\n",
      "2       4.0       False       True\n",
      "3       NaN       False       True\n"
     ]
    }
   ],
   "source": [
    "inputs = pd.get_dummies(inputs, dummy_na=True)\n",
    "print(inputs)"
   ]
  },
  {
   "cell_type": "markdown",
   "id": "a467868c",
   "metadata": {
    "origin_pos": 8
   },
   "source": [
    "## 转换为张量格式\n",
    "\n",
    "[**现在`inputs`和`outputs`中的所有条目都是数值类型，它们可以转换为张量格式。**]\n",
    "当数据采用张量格式后，可以通过在 :numref:`sec_ndarray`中引入的那些张量函数来进一步操作。\n"
   ]
  },
  {
   "cell_type": "code",
   "execution_count": 17,
   "id": "b6487a4f",
   "metadata": {
    "execution": {
     "iopub.execute_input": "2022-07-31T02:47:43.586980Z",
     "iopub.status.busy": "2022-07-31T02:47:43.586638Z",
     "iopub.status.idle": "2022-07-31T02:47:44.148381Z",
     "shell.execute_reply": "2022-07-31T02:47:44.147694Z"
    },
    "origin_pos": 10,
    "tab": [
     "pytorch"
    ]
   },
   "outputs": [
    {
     "data": {
      "text/plain": [
       "(tensor([[nan, 1., 0.],\n",
       "         [2., 0., 1.],\n",
       "         [4., 0., 1.],\n",
       "         [nan, 0., 1.]], dtype=torch.float64),\n",
       " tensor([127500., 106000., 178100., 140000.], dtype=torch.float64))"
      ]
     },
     "execution_count": 17,
     "metadata": {},
     "output_type": "execute_result"
    }
   ],
   "source": [
    "import torch\n",
    "\n",
    "X = torch.tensor(inputs.to_numpy(dtype=float))\n",
    "y = torch.tensor(outputs.to_numpy(dtype=float))\n",
    "X, y"
   ]
  },
  {
   "cell_type": "markdown",
   "id": "a26f9257",
   "metadata": {
    "origin_pos": 12
   },
   "source": [
    "## 小结\n",
    "\n",
    "* `pandas`软件包是Python中常用的数据分析工具中，`pandas`可以与张量兼容。\n",
    "* 用`pandas`处理缺失的数据时，我们可根据情况选择用插值法和删除法。\n",
    "\n",
    "## 练习\n",
    "\n",
    "创建包含更多行和列的原始数据集。\n",
    "\n",
    "1. 删除缺失值最多的列。\n",
    "2. 将预处理后的数据集转换为张量格式。\n"
   ]
  },
  {
   "cell_type": "markdown",
   "id": "0767d60f",
   "metadata": {
    "origin_pos": 14,
    "tab": [
     "pytorch"
    ]
   },
   "source": [
    "[Discussions](https://discuss.d2l.ai/t/1750)\n"
   ]
  },
  {
   "cell_type": "markdown",
   "metadata": {},
   "source": [
    "# 問題1: 删除缺失值最多的列。"
   ]
  },
  {
   "cell_type": "code",
   "execution_count": 18,
   "metadata": {},
   "outputs": [
    {
     "name": "stdout",
     "output_type": "stream",
     "text": [
      "          0         1         2         3         4         5         6  \\\n",
      "0  1.204215 -0.932094       NaN -0.795111  0.765896  0.401022 -0.939847   \n",
      "1  0.391004  0.251712       NaN -0.796685  0.330502  0.588540  0.053198   \n",
      "2  0.631579 -0.667536       NaN -0.855347  0.046683  0.289401 -1.110941   \n",
      "3  0.995405  0.406753       NaN  1.786203  0.703589  0.434734  1.301045   \n",
      "4 -1.927222  1.314945       NaN -1.035250 -0.666329  0.578242  0.274481   \n",
      "5 -0.087796 -1.061120       NaN  0.429294       NaN  0.529372  0.792669   \n",
      "6 -0.488690  1.320289       NaN -0.269533       NaN  0.517638  0.810894   \n",
      "7  0.817720  0.784834       NaN  1.165735       NaN  1.319671  0.100835   \n",
      "8  0.011014  2.351894  0.251870 -0.635078 -1.390251  1.376169  1.449530   \n",
      "9  1.554697  2.674114  0.811193 -0.458645 -0.842525 -0.844899 -1.777039   \n",
      "\n",
      "          7         8         9  \n",
      "0  0.297002 -0.238090  2.048236  \n",
      "1 -0.899903 -0.353369 -0.867384  \n",
      "2 -1.706753 -0.548784  0.775180  \n",
      "3  1.423195 -0.242554  0.487049  \n",
      "4 -0.138544  0.766999 -1.104570  \n",
      "5 -1.342143 -0.760868  0.154525  \n",
      "6  1.825162  0.197401 -0.427751  \n",
      "7  0.862077  0.063786  0.899022  \n",
      "8       NaN  1.372809 -0.235860  \n",
      "9       NaN -1.831077 -0.785845  \n"
     ]
    }
   ],
   "source": [
    "import pandas as pd\n",
    "import numpy as np\n",
    "\n",
    "# 建立一個100行10列的資料集\n",
    "raw_data = pd.DataFrame(np.random.randn(10,10)) \n",
    "\n",
    "# 在2,4,7列中加入缺失值\n",
    "raw_data.iloc[:8,2] = np.nan\n",
    "raw_data.iloc[5:8,4] = np.nan \n",
    "raw_data.iloc[8:,7] = np.nan\n",
    "\n",
    "# 統計每列的缺失值個數\n",
    "missing_count = raw_data.isnull().sum()\n",
    "print(raw_data)"
   ]
  },
  {
   "cell_type": "code",
   "execution_count": 19,
   "metadata": {},
   "outputs": [
    {
     "name": "stdout",
     "output_type": "stream",
     "text": [
      "2\n"
     ]
    }
   ],
   "source": [
    "# 取得缺失值最多的那一列\n",
    "most_missing_col = missing_count[missing_count==missing_count.max()].index[0] \n",
    "print(most_missing_col)"
   ]
  },
  {
   "cell_type": "code",
   "execution_count": 20,
   "metadata": {},
   "outputs": [
    {
     "name": "stdout",
     "output_type": "stream",
     "text": [
      "          0         1         3         4         5         6         7  \\\n",
      "0  1.204215 -0.932094 -0.795111  0.765896  0.401022 -0.939847  0.297002   \n",
      "1  0.391004  0.251712 -0.796685  0.330502  0.588540  0.053198 -0.899903   \n",
      "2  0.631579 -0.667536 -0.855347  0.046683  0.289401 -1.110941 -1.706753   \n",
      "3  0.995405  0.406753  1.786203  0.703589  0.434734  1.301045  1.423195   \n",
      "4 -1.927222  1.314945 -1.035250 -0.666329  0.578242  0.274481 -0.138544   \n",
      "5 -0.087796 -1.061120  0.429294       NaN  0.529372  0.792669 -1.342143   \n",
      "6 -0.488690  1.320289 -0.269533       NaN  0.517638  0.810894  1.825162   \n",
      "7  0.817720  0.784834  1.165735       NaN  1.319671  0.100835  0.862077   \n",
      "8  0.011014  2.351894 -0.635078 -1.390251  1.376169  1.449530       NaN   \n",
      "9  1.554697  2.674114 -0.458645 -0.842525 -0.844899 -1.777039       NaN   \n",
      "\n",
      "          8         9  \n",
      "0 -0.238090  2.048236  \n",
      "1 -0.353369 -0.867384  \n",
      "2 -0.548784  0.775180  \n",
      "3 -0.242554  0.487049  \n",
      "4  0.766999 -1.104570  \n",
      "5 -0.760868  0.154525  \n",
      "6  0.197401 -0.427751  \n",
      "7  0.063786  0.899022  \n",
      "8  1.372809 -0.235860  \n",
      "9 -1.831077 -0.785845  \n"
     ]
    }
   ],
   "source": [
    "# 删除缺失值最多的那一列\n",
    "raw_data.drop(most_missing_col,axis=1,inplace=True)\n",
    "\n",
    "print(raw_data)"
   ]
  },
  {
   "cell_type": "markdown",
   "metadata": {},
   "source": [
    "# 問題2 :"
   ]
  },
  {
   "cell_type": "code",
   "execution_count": 21,
   "metadata": {},
   "outputs": [
    {
     "name": "stdout",
     "output_type": "stream",
     "text": [
      "tensor([[ 1.2042, -0.9321, -0.7951,  0.7659,  0.4010, -0.9398,  0.2970, -0.2381,\n",
      "          2.0482],\n",
      "        [ 0.3910,  0.2517, -0.7967,  0.3305,  0.5885,  0.0532, -0.8999, -0.3534,\n",
      "         -0.8674],\n",
      "        [ 0.6316, -0.6675, -0.8553,  0.0467,  0.2894, -1.1109, -1.7068, -0.5488,\n",
      "          0.7752],\n",
      "        [ 0.9954,  0.4068,  1.7862,  0.7036,  0.4347,  1.3010,  1.4232, -0.2426,\n",
      "          0.4870],\n",
      "        [-1.9272,  1.3149, -1.0353, -0.6663,  0.5782,  0.2745, -0.1385,  0.7670,\n",
      "         -1.1046],\n",
      "        [-0.0878, -1.0611,  0.4293,     nan,  0.5294,  0.7927, -1.3421, -0.7609,\n",
      "          0.1545],\n",
      "        [-0.4887,  1.3203, -0.2695,     nan,  0.5176,  0.8109,  1.8252,  0.1974,\n",
      "         -0.4278],\n",
      "        [ 0.8177,  0.7848,  1.1657,     nan,  1.3197,  0.1008,  0.8621,  0.0638,\n",
      "          0.8990],\n",
      "        [ 0.0110,  2.3519, -0.6351, -1.3903,  1.3762,  1.4495,     nan,  1.3728,\n",
      "         -0.2359],\n",
      "        [ 1.5547,  2.6741, -0.4586, -0.8425, -0.8449, -1.7770,     nan, -1.8311,\n",
      "         -0.7858]], dtype=torch.float64)\n",
      "tensor([[ 1.2042, -0.9321, -0.7951,  0.7659,  0.4010, -0.9398,  0.2970, -0.2381,\n",
      "          2.0482],\n",
      "        [ 0.3910,  0.2517, -0.7967,  0.3305,  0.5885,  0.0532, -0.8999, -0.3534,\n",
      "         -0.8674],\n",
      "        [ 0.6316, -0.6675, -0.8553,  0.0467,  0.2894, -1.1109, -1.7068, -0.5488,\n",
      "          0.7752],\n",
      "        [ 0.9954,  0.4068,  1.7862,  0.7036,  0.4347,  1.3010,  1.4232, -0.2426,\n",
      "          0.4870],\n",
      "        [-1.9272,  1.3149, -1.0353, -0.6663,  0.5782,  0.2745, -0.1385,  0.7670,\n",
      "         -1.1046],\n",
      "        [-0.0878, -1.0611,  0.4293,     nan,  0.5294,  0.7927, -1.3421, -0.7609,\n",
      "          0.1545],\n",
      "        [-0.4887,  1.3203, -0.2695,     nan,  0.5176,  0.8109,  1.8252,  0.1974,\n",
      "         -0.4278],\n",
      "        [ 0.8177,  0.7848,  1.1657,     nan,  1.3197,  0.1008,  0.8621,  0.0638,\n",
      "          0.8990],\n",
      "        [ 0.0110,  2.3519, -0.6351, -1.3903,  1.3762,  1.4495,     nan,  1.3728,\n",
      "         -0.2359],\n",
      "        [ 1.5547,  2.6741, -0.4586, -0.8425, -0.8449, -1.7770,     nan, -1.8311,\n",
      "         -0.7858]], dtype=torch.float64)\n"
     ]
    }
   ],
   "source": [
    "import torch\n",
    "\n",
    "X, y = torch.tensor(raw_data.values), torch.tensor(raw_data.values)\n",
    "print(X)\n",
    "print(y)"
   ]
  }
 ],
 "metadata": {
  "kernelspec": {
   "display_name": "Python 3.9.7 64-bit",
   "language": "python",
   "name": "python3"
  },
  "language_info": {
   "codemirror_mode": {
    "name": "ipython",
    "version": 3
   },
   "file_extension": ".py",
   "mimetype": "text/x-python",
   "name": "python",
   "nbconvert_exporter": "python",
   "pygments_lexer": "ipython3",
   "version": "3.10.11"
  },
  "vscode": {
   "interpreter": {
    "hash": "bb58b8a5e356064d77409275aa6a1f162b9032006fbcb9d1859e2cbba12e0ad9"
   }
  }
 },
 "nbformat": 4,
 "nbformat_minor": 5
}
